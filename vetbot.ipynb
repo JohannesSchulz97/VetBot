{
 "cells": [
  {
   "cell_type": "code",
   "execution_count": 1,
   "metadata": {},
   "outputs": [],
   "source": [
    "\"\"\" LangChain Packages\"\"\"\n",
    "from langchain.vectorstores import Chroma\n",
    "from langchain.embeddings.vertexai import VertexAIEmbeddings\n",
    "from langchain.document_loaders import JSONLoader\n",
    "from langchain.text_splitter import RecursiveCharacterTextSplitter\n",
    "from langchain.schema import Document\n",
    "\n",
    "\"\"\" Chroma packages\"\"\"\n",
    "from chromadb import EmbeddingFunction, Embeddings\n",
    "import chromadb\n",
    "from chromadb import PersistentClient\n",
    "\n",
    "import json, requests\n",
    "from tqdm import tqdm\n",
    "import os\n",
    "\n",
    "\"\"\" Chatbot Interface \"\"\"\n",
    "from IPython.display import HTML, Markdown, display\n",
    "import ipywidgets as widgets\n",
    "from datetime import datetime\n",
    "import base64\n",
    "import markdown"
   ]
  },
  {
   "cell_type": "markdown",
   "metadata": {},
   "source": [
    "## Extraction of JSON Articles as Langchain Documents\n",
    "\n",
    "We load the authoratative veterinary literature from GitHub. \n",
    "The `merck-articles.json` file is a result of scraping [https://www.merckvetmanual.com/](https://www.merckvetmanual.com/) for relevant veterinary articles.\n",
    "\n",
    "Details can be found in the [respective repository](https://github.com/JohannesSchulz97/WebScraper)."
   ]
  },
  {
   "cell_type": "code",
   "execution_count": 2,
   "metadata": {},
   "outputs": [
    {
     "name": "stdout",
     "output_type": "stream",
     "text": [
      "Loaded 2895 articles with a total word count of 2836584.\n"
     ]
    }
   ],
   "source": [
    "url = \"https://raw.githubusercontent.com/JohannesSchulz97/WebScraper/refs/heads/main/data/merck-articles.json\"\n",
    "\n",
    "\"\"\"\n",
    "    Retrieve veterinary articles dataset from Github.\n",
    "\"\"\"\n",
    "response = requests.get(url)\n",
    "data = response.json()\n",
    "\n",
    "word_count = 0\n",
    "for article in data: \n",
    "    word_count += len(article['content'].split())\n",
    "print(f\"Loaded {len(data)} articles with a total word count of {word_count}.\")\n",
    "\n",
    "\"\"\"\n",
    "    Create Langchain documents to be uploaded to the vector store later on.\n",
    "\"\"\"\n",
    "documents = [\n",
    "    Document(\n",
    "        page_content=entry[\"content\"],\n",
    "        metadata={\"name\": entry[\"name\"], \"link\": entry[\"link\"]}\n",
    "    )\n",
    "    for entry in data\n",
    "]"
   ]
  },
  {
   "cell_type": "markdown",
   "metadata": {},
   "source": [
    "## Setup Chroma Database"
   ]
  },
  {
   "cell_type": "code",
   "execution_count": 3,
   "metadata": {},
   "outputs": [
    {
     "name": "stdout",
     "output_type": "stream",
     "text": [
      "2895\n"
     ]
    }
   ],
   "source": [
    "db_name = \"veterinary_articles\"\n",
    "\n",
    "# Extract content, metadata, and generate ids\n",
    "contents = [doc.page_content for doc in documents]\n",
    "metadata = [doc.metadata for doc in documents]\n",
    "ids = [doc.metadata[\"link\"] for doc in documents]\n",
    "\n",
    "# Create a persistent Chroma DB client, if it has not been created already.\n",
    "if \"chroma_client\" not in globals():\n",
    "    chroma_client = PersistentClient(path=\"./chroma_db\")\n",
    "\n",
    "# Create a Chroma Collection, using our predefined embedding function.\n",
    "db = chroma_client.get_or_create_collection(name=db_name)\n",
    "\n",
    "existing_count = db.count()\n",
    "print(existing_count)\n",
    "if existing_count == 0:\n",
    "    # Upload content in batches to stay within chromas defined limits.\n",
    "    batch_size = 100\n",
    "    for i in tqdm(range(0, len(contents), batch_size)):\n",
    "        batch_docs = contents[i:i+batch_size]\n",
    "        batch_meta = metadata[i:i+batch_size]\n",
    "        batch_ids = [f\"doc_{j}\" for j in range(i, i + len(batch_docs))]  # ensure unique IDs\n",
    "    \n",
    "        db.add(\n",
    "            documents=batch_docs,\n",
    "            metadatas=batch_meta,\n",
    "            ids=batch_ids\n",
    "        )"
   ]
  },
  {
   "cell_type": "code",
   "execution_count": 4,
   "metadata": {},
   "outputs": [],
   "source": [
    "from enum import Enum\n",
    "\n",
    "class QueryType(Enum):\n",
    "    INITIAL = 1\n",
    "    REMINDER = 2\n",
    "    NO_INSTRUCTIONS = 3\n",
    "\n",
    "\n",
    "initial_instruction_prompt = \"\"\"You are a knowledgeable, friendly, and responsible veterinary chatbot designed to assist with questions related to veterinary science. \n",
    "These questions may range from highly practical concerns of pet owners caring for sick animals to more theoretical or academic inquiries about veterinary topics.\n",
    "\n",
    "When responding to practical health-related questions, please keep in mind that the user may not provide all the necessary information to properly assess the animal’s condition. \n",
    "In such cases, ask relevant and specific follow-up questions to gather additional information before making any conclusive statements or offering advice. \n",
    "Your follow-up questions should be informed by the veterinary articles provided to you.\n",
    "\n",
    "Always prioritize accuracy and caution in your responses. Do not make assumptions or offer definitive diagnoses without sufficient information. \n",
    "Avoid making false claims, as incorrect information in this domain can have serious consequences for animal health and safety.\n",
    "\n",
    "You will be given veterinary documents and their URLs. These articles may or may not be relevant to the user’s query—use them only if they are clearly applicable. \n",
    "When you make statements and claims, reference the respective article.\n",
    "Also, do not spam the same citation again and again, but rather make sure that it is cited where most appropriate and at least once.\n",
    "List all sources in a separate section below your response.\n",
    "The source citations should in a consistent format (ideally the one that uses numbers) that is typical in scientific literature.\n",
    "In general your statements about veterinary science should only be based on the provided documents!\n",
    "\n",
    "To summarize:\n",
    "\t•\tIf you need more information before answering, keep your reply brief and focused on a few essential follow-up questions needed to proceed.\n",
    "\t•\tOnly base your statements on the provided articles and prioritize accuracy and caution.\n",
    "\t•\tOnly reference veterinary documents when they clearly apply and cite them as prescribed.\n",
    "    •\tMaintain a conversational and empathetic tone—your goal is to support and educate pet owners in a reassuring way.\n",
    "\n",
    "\"\"\"\n",
    "\n",
    "reminder_instruction_prompt =  \"\"\"Reminder: You are a veterinary chatbot. \n",
    "Please continue to provide helpful, accurate, and cautious responses to both practical and theoretical veterinary questions. \n",
    "When a user input lacks crucial detail, ask relevant follow-up questions before offering advice. \n",
    "Only reference veterinary documents when they clearly apply and cite them as prescribed. \n",
    "Additionally, make sure that all your replies are based on the provided documents.\n",
    "Maintain a clear, empathetic tone for non-expert pet owners.\"\"\"\n",
    "\n",
    "\"\"\"\n",
    "    Retrieve the ten most relevant articles from the Chroma DB database by embedding the users query and then comparing the resultant\n",
    "    embedding to the embeddings of the stored articles..\n",
    "\"\"\"\n",
    "def retrieve_relevant_articles(query):\n",
    "    results = db.query(query_texts=[query], n_results=10, include=['documents', 'metadatas'])\n",
    "    [documents], [metadata] = results['documents'], results['metadatas']\n",
    "    return [x['link'] for x in metadata], [x['name'] for x in metadata], documents\n",
    "    \n",
    "\"\"\"\n",
    "    Query augmentation varies, depending on the current turn. \n",
    "    Initially, we add lenghty and detailed instructions. After every ten rounds, we will remind the model of those\n",
    "    with a shorter instruction reminder. \n",
    "    For all query types, we append relevant documents afeter the query.\n",
    "\"\"\"\n",
    "def article_prompt(query):\n",
    "    query = query.replace(\"\\n\", \" \")\n",
    "    urls, names, documents = retrieve_relevant_articles(query)\n",
    "\n",
    "    prompt = \"\"\n",
    "    # Add the retrieved documents to the prompt.\n",
    "    for url, name, document in zip(urls, names, documents):\n",
    "        document = document.replace(\"\\n\", \" \")\n",
    "        prompt += f\"url: {url}\\n\"\n",
    "        prompt += f\"name: {name}\\n\"\n",
    "        prompt += f\"document: {document}\\n\\n\"\n",
    "    intro = 'Here are some articles you might find useful for answering that user query: /n'\n",
    "    return intro + prompt\n"
   ]
  },
  {
   "cell_type": "markdown",
   "metadata": {},
   "source": [
    "## Set up OpenRouter Chatbot"
   ]
  },
  {
   "cell_type": "code",
   "execution_count": 5,
   "metadata": {},
   "outputs": [],
   "source": [
    "from pydantic import BaseModel\n",
    "from openai import OpenAI\n",
    "\n",
    "api_key = os.getenv(\"OPENROUTER_API_KEY\")\n",
    "client = OpenAI(\n",
    "  base_url= \"https://openrouter.ai/api/v1\",\n",
    "  api_key=api_key,\n",
    ")"
   ]
  },
  {
   "cell_type": "markdown",
   "metadata": {},
   "source": [
    "## Chat Interface"
   ]
  },
  {
   "cell_type": "markdown",
   "metadata": {},
   "source": [
    "### Logic for the Chatbot/Chatbot Interface"
   ]
  },
  {
   "cell_type": "raw",
   "metadata": {},
   "source": [
    "completion = client.chat.completions.create(\n",
    "    model=\"deepseek/deepseek-r1-zero:free\",\n",
    "    messages=[{'role': 'user', 'content': 'What is necessary for life in terms of planetary requirements?'}]\n",
    "    )\n",
    "raw_output = completion.choices[0].message.content\n",
    "answer = extract_deepseek_answer(raw_output)\n",
    "print(answer)"
   ]
  },
  {
   "cell_type": "raw",
   "metadata": {},
   "source": [
    "raw_output"
   ]
  },
  {
   "cell_type": "code",
   "execution_count": 12,
   "metadata": {},
   "outputs": [],
   "source": [
    "\"\"\"\n",
    "     Event handler for query submission, the core logic of the User Interface is implemented here.\n",
    "     This includes: \n",
    "     - the augmentation of the users query with relevant articles as well as an additional instruction prompt if needed. \n",
    "     - the visualization of both the users query as well as the models response.\n",
    "\"\"\"\n",
    "\n",
    "\"\"\"\n",
    "Initially, messages will contain the instruction specifying the required chatbot behavior. \n",
    "Over the course of the conversation, this messages array is updated with the chat history\n",
    "and once in a while with reminder instructions.\n",
    "\"\"\"\n",
    "messages = [\n",
    "    {\"role\": \"system\", \"content\": initial_instruction_prompt},\n",
    "]\n",
    "\n",
    "import re\n",
    "\n",
    "def extract_deepseek_answer(text):\n",
    "    # Try to get content inside the boxed answer\n",
    "    match = re.search(r'\\\\boxed\\{.*?Answer:\\s*(.*?)\\s*\\}', text, re.DOTALL)\n",
    "    if match:\n",
    "        return match.group(1).strip()\n",
    "    # Fallback: no \"Answer:\", just boxed content\n",
    "    match = re.search(r'\\\\boxed\\{\\s*(.*?)\\s*\\}', text, re.DOTALL)\n",
    "    if match:\n",
    "        return match.group(1).strip()\n",
    "    return text.strip()  # If all else fails, return raw content\n",
    "\n",
    "def on_submit(change):\n",
    "    user_input = change[\"new\"]\n",
    "    if not user_input.strip():\n",
    "        return\n",
    "    input_widget.value = \"\"\n",
    "    loading_widget.layout.display = \"block\"\n",
    "    with chat_output:\n",
    "        display(HTML(format_user_message(user_input)))\n",
    "\n",
    "    num_turns = len(messages)\n",
    "    try: \n",
    "        if ((num_turns % 20) == 0) and (num_turns != 0):\n",
    "            # Add reminder first\n",
    "            messages.append({'role': 'user', 'content': reminder_instruction_prompt})\n",
    "        \n",
    "        # Add actual user input\n",
    "        messages.append({'role': 'user', 'content': \"QUESTION: \" + user_input})\n",
    "\n",
    "        # Add articles\n",
    "        messages.append({'role': 'user', 'content': article_prompt(user_input)})\n",
    "        \n",
    "        # Generate completion\n",
    "        completion = client.chat.completions.create(\n",
    "            model=\"deepseek/deepseek-r1-zero:free\",\n",
    "            messages=messages\n",
    "        )\n",
    "        response = extract_deepseek_answer(completion.choices[0].message.content)\n",
    "        messages.append({'role': 'assistant', 'content': response})\n",
    "    except Exception as e:\n",
    "        with chat_output:\n",
    "            display(f\"An error occurred: {e}\")\n",
    "        \n",
    "    \n",
    "    with chat_output:\n",
    "        display(HTML(format_bot_message(response)))\n",
    "    \n",
    "    loading_widget.layout.display = \"none\"\n",
    "\n",
    "\n",
    "def format_user_message(msg):\n",
    "    return f\"\"\"\n",
    "    <div class=\"chat-message-right\">\n",
    "        <div>\n",
    "            <img src=\"data:image/png;base64,{dog_base64}\" class=\"rounded-circle\" width=\"40\" height=\"40\">\n",
    "            <div class=\"text-muted small text-nowrap mt-1\">{datetime.now().strftime('%H:%M:%S')}</div>\n",
    "        </div>\n",
    "        <div class=\"chat-bubble\">\n",
    "            <div><strong>You</strong></div>\n",
    "            {msg}\n",
    "        </div>\n",
    "    </div>\n",
    "    \"\"\"\n",
    "\n",
    "def format_bot_message(msg):\n",
    "    return f\"\"\"\n",
    "    <div class=\"chat-message-left\">\n",
    "        <div>\n",
    "            <img src=\"data:image/png;base64,{vet_base64}\" class=\"rounded-circle\" width=\"40\" height=\"40\">\n",
    "            <div class=\"text-muted small text-nowrap mt-1\">{datetime.now().strftime('%H:%M:%S')}</div>\n",
    "        </div>\n",
    "        <div class=\"chat-bubble\">\n",
    "            <div><strong>Veterinary Assistant Chatbot</strong></div>\n",
    "            {markdown.markdown(msg)}\n",
    "        </div>\n",
    "    </div>\n",
    "    \"\"\"\n",
    "\n",
    "\n",
    "def img_to_base64_str(path):\n",
    "    with open(path, \"rb\") as f:\n",
    "        return base64.b64encode(f.read()).decode(\"utf-8\")\n"
   ]
  },
  {
   "cell_type": "markdown",
   "metadata": {},
   "source": [
    "### Inject CSS styles into HTML frontend\n",
    "\n",
    "`display`: “Render this object’s representation to the notebook’s output cell, using whatever method it defines.”  \n",
    "This can mean showing: \n",
    "- a widget\n",
    "- a plot\n",
    "- some styled HTML\n",
    "- or in this case, just executing HTML that has side effects (like adding `style` tags or JavaScript)."
   ]
  },
  {
   "cell_type": "code",
   "execution_count": 13,
   "metadata": {},
   "outputs": [
    {
     "data": {
      "text/html": [
       "\n",
       "<style>\n",
       "    .rounded-input input {\n",
       "        border-radius: 20px !important;\n",
       "        padding: 10px !important;\n",
       "        font-size: 22px;\n",
       "    }\n",
       "</style>\n"
      ],
      "text/plain": [
       "<IPython.core.display.HTML object>"
      ]
     },
     "metadata": {},
     "output_type": "display_data"
    },
    {
     "data": {
      "text/html": [
       "\n",
       "<style>\n",
       "    .widget-box {\n",
       "        font-family: 'S/egoe UI', Tahoma, Geneva, Verdana, sans-serif;\n",
       "    }\n",
       "</style>\n"
      ],
      "text/plain": [
       "<IPython.core.display.HTML object>"
      ]
     },
     "metadata": {},
     "output_type": "display_data"
    },
    {
     "data": {
      "text/html": [
       "\n",
       "<link rel=\"stylesheet\"\n",
       "      href=\"https://cdn.jsdelivr.net/npm/bootstrap@4.5.3/dist/css/bootstrap.min.css\"\n",
       "      integrity=\"sha384-TX8t27EcRE3e/ihU7zmQxVncDAy5uIKz4rEkgIXeMed4M0jlfIDPvg6uqKI2xXr2\"\n",
       "      crossorigin=\"anonymous\">\n",
       "<style>\n",
       "    .chat-message-left, .chat-message-right {\n",
       "        display: flex;\n",
       "        flex-shrink: 0;\n",
       "        margin-bottom: 10px;\n",
       "    }\n",
       "    .chat-message-left {\n",
       "        margin-right: auto;\n",
       "    }\n",
       "    .chat-message-right {\n",
       "        flex-direction: row-reverse;\n",
       "        margin-left: auto;\n",
       "    }\n",
       "    .chat-bubble {\n",
       "        max-width: 75%;\n",
       "        border-radius: 15px;\n",
       "        padding: 10px 15px;\n",
       "        margin: 5px;\n",
       "    }\n",
       "    .chat-message-left .chat-bubble {\n",
       "        background: #f1f0f0;\n",
       "        font-size: 15px;\n",
       "    }\n",
       "    .chat-message-right .chat-bubble {\n",
       "        background: #d1e7dd;\n",
       "        font-size: 15px;\n",
       "    }\n",
       "</style>\n"
      ],
      "text/plain": [
       "<IPython.core.display.HTML object>"
      ]
     },
     "metadata": {},
     "output_type": "display_data"
    },
    {
     "data": {
      "text/html": [
       "\n",
       "<style>\n",
       "    .chat-container {\n",
       "        border: 2px solid #bbb;\n",
       "        border-radius: 25px;\n",
       "        padding: 20px;\n",
       "        background-color: #f8f9fa;\n",
       "        box-shadow: 0 4px 12px rgba(0,0,0,0.1);\n",
       "        max-width: 1200px; \n",
       "        margin: 20px auto; |\n",
       "    }\n",
       "</style>\n"
      ],
      "text/plain": [
       "<IPython.core.display.HTML object>"
      ]
     },
     "metadata": {},
     "output_type": "display_data"
    },
    {
     "data": {
      "text/html": [
       "\n",
       "<style>\n",
       ".rounded-input input {\n",
       "    font-size: 15px !important;\n",
       "    padding: 6px 10px;\n",
       "}\n",
       "</style>\n"
      ],
      "text/plain": [
       "<IPython.core.display.HTML object>"
      ]
     },
     "metadata": {},
     "output_type": "display_data"
    }
   ],
   "source": [
    "display(HTML(\"\"\"\n",
    "<style>\n",
    "    .rounded-input input {\n",
    "        border-radius: 20px !important;\n",
    "        padding: 10px !important;\n",
    "        font-size: 22px;\n",
    "    }\n",
    "</style>\n",
    "\"\"\"))\n",
    "\n",
    "display(HTML(\"\"\"\n",
    "<style>\n",
    "    .widget-box {\n",
    "        font-family: 'S/egoe UI', Tahoma, Geneva, Verdana, sans-serif;\n",
    "    }\n",
    "</style>\n",
    "\"\"\"))\n",
    "\n",
    "\n",
    "# Basic Bootstrap CSS\n",
    "display(HTML(\"\"\"\n",
    "<link rel=\"stylesheet\"\n",
    "      href=\"https://cdn.jsdelivr.net/npm/bootstrap@4.5.3/dist/css/bootstrap.min.css\"\n",
    "      integrity=\"sha384-TX8t27EcRE3e/ihU7zmQxVncDAy5uIKz4rEkgIXeMed4M0jlfIDPvg6uqKI2xXr2\"\n",
    "      crossorigin=\"anonymous\">\n",
    "<style>\n",
    "    .chat-message-left, .chat-message-right {\n",
    "        display: flex;\n",
    "        flex-shrink: 0;\n",
    "        margin-bottom: 10px;\n",
    "    }\n",
    "    .chat-message-left {\n",
    "        margin-right: auto;\n",
    "    }\n",
    "    .chat-message-right {\n",
    "        flex-direction: row-reverse;\n",
    "        margin-left: auto;\n",
    "    }\n",
    "    .chat-bubble {\n",
    "        max-width: 75%;\n",
    "        border-radius: 15px;\n",
    "        padding: 10px 15px;\n",
    "        margin: 5px;\n",
    "    }\n",
    "    .chat-message-left .chat-bubble {\n",
    "        background: #f1f0f0;\n",
    "        font-size: 15px;\n",
    "    }\n",
    "    .chat-message-right .chat-bubble {\n",
    "        background: #d1e7dd;\n",
    "        font-size: 15px;\n",
    "    }\n",
    "</style>\n",
    "\"\"\"))\n",
    "\n",
    "display(HTML(\"\"\"\n",
    "<style>\n",
    "    .chat-container {\n",
    "        border: 2px solid #bbb;\n",
    "        border-radius: 25px;\n",
    "        padding: 20px;\n",
    "        background-color: #f8f9fa;\n",
    "        box-shadow: 0 4px 12px rgba(0,0,0,0.1);\n",
    "        max-width: 1200px; \n",
    "        margin: 20px auto; |\n",
    "    }\n",
    "</style>\n",
    "\"\"\"))\n",
    "\n",
    "# Font size of Output\n",
    "display(HTML(\"\"\"\n",
    "<style>\n",
    ".rounded-input input {\n",
    "    font-size: 15px !important;\n",
    "    padding: 6px 10px;\n",
    "}\n",
    "</style>\n",
    "\"\"\"))"
   ]
  },
  {
   "cell_type": "markdown",
   "metadata": {},
   "source": [
    "### Create User Interface"
   ]
  },
  {
   "cell_type": "code",
   "execution_count": 14,
   "metadata": {},
   "outputs": [
    {
     "data": {
      "application/vnd.jupyter.widget-view+json": {
       "model_id": "da276ca47f534945a88cca01ca6e266d",
       "version_major": 2,
       "version_minor": 0
      },
      "text/plain": [
       "VBox(children=(VBox(children=(HBox(children=(Output(),), layout=Layout(flex_flow='column-reverse', height='750…"
      ]
     },
     "metadata": {},
     "output_type": "display_data"
    }
   ],
   "source": [
    "input_widget = widgets.Text(\n",
    "    placeholder=\"Ask something...\",\n",
    "    layout=widgets.Layout(width=\"100%\", height=\"40px\"),\n",
    "    style={'description_width': 'initial'}\n",
    ")\n",
    "\n",
    "input_widget.add_class(\"rounded-input\")\n",
    "input_widget.continuous_update = False\n",
    "input_widget.observe(on_submit, names=\"value\")\n",
    "\n",
    "\n",
    "# Load and hide loading animation\n",
    "with open(\"./data/img/loading.gif\", \"rb\") as file:\n",
    "    loading_image = file.read()\n",
    "\n",
    "loading_widget = widgets.Image(\n",
    "    value=loading_image,\n",
    "    format=\"gif\",\n",
    "    width=24,\n",
    "    height=24,\n",
    "    layout={\"display\": \"none\", \"margin\": \"-12px 10px 0px 10px\"}\n",
    ")\n",
    "\n",
    "# Output box\n",
    "chat_output = widgets.Output()\n",
    "\n",
    "# Convert images to base64 strings once\n",
    "dog_base64 = img_to_base64_str(\"./data/img/dog.png\")\n",
    "vet_base64 = img_to_base64_str(\"./data/img/veterinarian.png\")\n",
    "\n",
    "# Layout and display\n",
    "chat_layout = widgets.VBox([\n",
    "    widgets.HBox([chat_output],\n",
    "                 layout=widgets.Layout(flex_flow=\"column-reverse\", height=\"750px\", overflow=\"auto\")),\n",
    "    widgets.HBox([loading_widget, input_widget])\n",
    "])\n",
    "\n",
    "\n",
    "chat_container = widgets.VBox([chat_layout])\n",
    "chat_container.add_class(\"chat-container\")\n",
    "display(chat_container)"
   ]
  },
  {
   "cell_type": "code",
   "execution_count": 9,
   "metadata": {},
   "outputs": [
    {
     "name": "stdout",
     "output_type": "stream",
     "text": [
      "Object `advice` not found.\n"
     ]
    }
   ],
   "source": [
    "I have a small puppy. And I would like to train him so that he respects my boundaries and is generally well behaved, while also not being too strict in correcting him. Any advice?"
   ]
  },
  {
   "cell_type": "code",
   "execution_count": 11,
   "metadata": {},
   "outputs": [
    {
     "data": {
      "text/plain": [
       "[{'role': 'system',\n",
       "  'content': 'You are a knowledgeable, friendly, and responsible veterinary chatbot designed to assist with questions related to veterinary science. \\nThese questions may range from highly practical concerns of pet owners caring for sick animals to more theoretical or academic inquiries about veterinary topics.\\n\\nWhen responding to practical health-related questions, please keep in mind that the user may not provide all the necessary information to properly assess the animal’s condition. \\nIn such cases, ask relevant and specific follow-up questions to gather additional information before making any conclusive statements or offering advice. \\nYour follow-up questions should be informed by the veterinary articles provided to you.\\n\\nAlways prioritize accuracy and caution in your responses. Do not make assumptions or offer definitive diagnoses without sufficient information. \\nAvoid making false claims, as incorrect information in this domain can have serious consequences for animal health and safety.\\n\\nYou will be given veterinary documents and their URLs. These articles may or may not be relevant to the user’s query—use them only if they are clearly applicable. \\nWhen you make statements and claims, reference the respective article.\\nAlso, do not spam the same citation again and again, but rather make sure that it is cited where most appropriate and at least once.\\nList all sources in a separate section below your response.\\nThe source citations should in a consistent format (ideally the one that uses numbers) that is typical in scientific literature.\\nIn general your statements about veterinary science should only be based on the provided documents!\\n\\nTo summarize:\\n\\t•\\tIf you need more information before answering, keep your reply brief and focused on a few essential follow-up questions needed to proceed.\\n\\t•\\tOnly base your statements on the provided articles and prioritize accuracy and caution.\\n\\t•\\tOnly reference veterinary documents when they clearly apply and cite them as prescribed.\\n    •\\tMaintain a conversational and empathetic tone—your goal is to support and educate pet owners in a reassuring way.\\n\\n'},\n",
       " {'role': 'user',\n",
       "  'content': 'Here are some articles you might find useful for the following user query: /nurl: https://www.merckvetmanual.com/pharmacology/antiseptics-and-disinfectants/practical-summary-of-antiseptic-and-disinfectant-use-in-animals\\nname: Practical Summary of Antiseptic and Disinfectant Use in Animals\\ndocument: \\n\\nurl: https://www.merckvetmanual.com/generalized-conditions/bluetongue/bluetongue-in-ruminants\\nname: Bluetongue in Ruminants\\ndocument: Bluetongue is a noncontagious, infectious, arthropod-borne viral disease primarily of domestic and wild ruminants. Infection with bluetongue virus (BTV) is common in a broad band across the world, which until recently stretched from ~35°S to 40°–50°N. Since the 1990s, BTV has extended considerably north of the 40th and even the 50th parallel in some parts of the world (eg, Europe). The geographic restriction is in part related to the climatic and environmental conditions necessary to support the Culicoides vectors. Most infections with BTV in wild ruminants and cattle are subclinical. Bluetongue (the disease caused by BTV) is usually considered to be a disease of improved breeds of sheep, particularly the fine-wool and mutton breeds, although it has also been recorded in cattle and some wild ruminant species, including white-tailed deer (Odocoileus virginianus), pronghorn antelope (Antilocapra americana), and desert bighorn sheep (Ovis canadensis) in North America, and European bison (Bison bonasus) and captive yak (Bos grunniens grunniens) in Europe.  ## Etiology and Pathogenesis of Bluetongue in Ruminants Bluetongue virus is the type species of the genus Orbivirus in the family Reoviridae. The virion is a nonenveloped double-layered particle with an outer capsid that encloses a core containing a segmented double-stranded RNA genome.  Hosts typically become infected from the saliva of a biting midge. The virus spreads locally and replicates in regional lymph nodes, leading to viremia and systemic spread with virus replication in hematopoietic cells and endothelial cells, resulting in endothelial damage, hemorrhage, vascular occlusion, tissue edema, and epithelial sloughing due to loss of microvasculature. ## Epidemiology and Transmission of Bluetongue in Ruminants There are at least 29 serotypes of BTV worldwide, although not all serotypes exist in any one geographic area. Distribution of BTV throughout the world parallels the spatial and temporal distribution of vector species of Culicoides biting midges (the only important natural transmitters of the virus) as well as the temperatures at which BTV will replicate in and be transmitted by these vectors. Continued cycling of the virus among competent Culicoides vectors and susceptible ruminants is critical to viral ecology. In the US, the principal vectors are C sonorensis and C insignis, which limit the distribution of BTV to southern and western regions. In northern and eastern Australia, the principal vector is C brevitarsis, whereas in Africa, southern Europe, and the Middle East, it is C imicola. In northern Europe, the major vectors are species within the C obsoletus-dewulfi complex. In each geographic region, secondary vector species may attain local importance.  Vectors become infected with BTV by imbibing blood from infected vertebrates; transovarial transmission has not been reported. The high affinity of the virus to blood cells, especially the sequestering of viral particles in invaginations of RBC membranes, contributes to prolonged viremia in the presence of neutralizing antibody. The extended viremia in cattle (occasionally up to 11 weeks), as well as the host preference for cattle that some vector species of Culicoides display, provides a mechanism for year-round transmission in domestic ruminants in locations where the vector-free period (ie, winter) is relatively short. Mechanical transmission by other bloodsucking insects is of minor importance.  Vector-borne transmission through Culicoides spp is the primary way that BTV is transmitted. Virus concentrations in secretions and excretions are minimal, making direct, indirect, or aerosol transmission unlikely. However, in-contact transmission of BTV serotype 26 has been demonstrated in goats. The importance of this form of transmission in the ecology of this serotype is not known. Semen from viremic bulls can serve as a source of infection for cows through natural service or artificial insemination. Embryo transfer is regarded as safe, provided that donors are not viremic and an appropriate washing procedure for embryos is used. Transplacental transmission of field strains of BTV from dam to fetus, leading to the birth of viremic calves, is reported in cattle; however, the epidemiological importance of this mechanism is unclear. Bluetongue is listed by the World Organisation for Animal Health (OIE) as a notifiable disease. Bluetongue virus is not zoonotic. ## Clinical Findings of Bluetongue in Ruminants The course of bluetongue in sheep can vary from peracute to chronic, with a mortality rate of 2%–90%. Peracute cases die within 7–9 days of infection, mostly as a result of severe pulmonary edema leading to dyspnea, frothing from the nostrils, and death by asphyxiation. In chronic cases, sheep may die 3–5 weeks after infection, mainly because of bacterial complications (especially pasteurellosis) and exhaustion. Animals with mild cases usually recover rapidly and completely. The major production losses include deaths, unthriftiness during prolonged convalescence, wool breaks, and reproductive losses.  In sheep, BTV causes vascular endothelial damage, resulting in changes to capillary permeability and subsequent intravascular coagulation, leading to edema, congestion, hemorrhage, inflammation, and necrosis. The clinical signs in sheep are typical. After an incubation period of 4–6 days, a fever of 40.5°–42°C (105°–107.5°F) develops. Affected animals are listless and reluctant to move. Clinical signs in young lambs are more apparent, and the mortality rate can be high (up to 30%). Approximately 2 days after onset of fever, additional clinical signs may be evident, such as edema of the lips, nose, face, submandibular area, eyelids, and sometimes ears; congestion of mouth, nose, nasal cavities, conjunctiva, and coronary bands; and lameness and depression. A serous nasal discharge is common, later becoming mucopurulent. The congestion of nose and nasal cavities produces a “sore muzzle” effect, the term used to describe the disease in sheep in the US.  Sheep eat less because of oral soreness and will hold food in their mouths to soften before chewing. They may champ to produce a frothy oral discharge at the corners of the lips. On close examination, small hemorrhages are visible on the mucous membranes of the nose and mouth. Ulceration develops where the teeth come in contact with lips and tongue, especially in the areas of most friction. Some affected sheep have severe swelling of the tongue, which may become cyanotic (hence the term \"blue tongue”) and even protrude from the mouth. Animals walk with difficulty as a result of inflammation of the hoof coronets. A purple-red color is obvious as a band at the junction of the skin and the hoof. Later in the course of disease, lameness or torticollis develops due to skeletal muscle damage. In most affected animals, abnormal wool growth results from dermatitis.  Clinical signs of bluetongue in cattle are rare but may be similar to those that occur in sheep. They are usually limited to fever, increased respiratory rate, lacrimation, salivation, stiffness, oral vesicles and ulcers, hyperesthesia, and a vesicular and ulcerative dermatitis. Susceptible cattle and sheep infected during pregnancy may abort or deliver malformed calves or lambs. The malformations include hydranencephaly or porencephaly, which results in ataxia and blindness at birth. White-tailed deer and pronghorn antelope develop severe hemorrhagic disease leading to sudden death.  In many areas of the world, BTV infection in sheep, and especially in other ruminants, is subclinical. Although clinical signs in cattle are rare and limited, exposure to BTV can influence international trade and movement of serologically positive animals. ## Diagnosis of Bluetongue in Ruminants The typical clinical signs of bluetongue enable a presumptive diagnosis, especially in areas where the disease is endemic.  Suspicion is confirmed by the presence of petechiae, ecchymoses, or hemorrhages in the wall of the base of the pulmonary artery and focal necrosis of the papillary muscle of the left ventricle. These highly characteristic lesions are usually obvious in severe clinical infections; in mild or convalescent cases, however, they may be barely visible. These lesions are often described as pathognomonic for bluetongue, but they also occur occasionally in other ovine diseases, such as heartwater, pulpy kidney disease, and Rift Valley fever. Hemorrhages and necrosis are usually found where mechanical abrasion damages fragile capillaries, such as on the buccal surface of the cheek opposite the molar teeth and the mucosa of the esophageal groove and omasal folds. Other necropsy findings include subcutaneous and intermuscular edema and hemorrhages, skeletal myonecrosis, myocardial and intestinal hemorrhages, hydrothorax, hydropericardium, pericarditis, and pneumonia.  Laboratory confirmation of bluetongue is based on virus isolation in embryonated chicken eggs or mammalian and insect cell cultures, or on identification of viral RNA by PCR assay. The identity of isolates may be confirmed by group-specific antigen-capture ELISA, group-specific PCR assay, immunofluorescence, immunoperoxidase technique, serotype-specific virus neutralization tests, serotype-specific PCR assay, or hybridization with complementary gene sequences of group- or serotype-specific genes. For virus isolation, blood (10–20 mL) is collected as early as possible from febrile animals into an anticoagulant such as heparin, sodium citrate, or ethylenediaminetetraacetic acid (EDTA) and transported at 4°C (39.2°F) to the laboratory. For long-term storage when refrigeration is not possible, blood is collected in oxalate-phenol-glycerin (OPG). Blood to be frozen should be collected in buffered lactose peptone and stored at or below −70°C (−94°F). Blood collected later during the viremic period should not be frozen because lysing of the RBCs on thawing releases the cell-associated virus, which may then be neutralized by early humoral antibody. The virus does not remain stable very long at −20°C (−4°F). In fatal cases, specimens of spleen, lymph nodes, or red bone marrow are collected and transported to the laboratory at 4°C (39.2°F) as soon as possible after death.  A serologic response in ruminants can be detected 7–14 days after infection by BTV and is generally lifelong after a field infection. Current recommended serologic techniques for detection of BTV antibody include agar gel\\xa0immunodiffusion (AGID) and competitive ELISA. The latter is the test of choice and does not detect cross-reacting antibody to other orbiviruses, especially anti-EHDV (epizootic hemorrhagic disease virus) antibody. Various forms of the serum neutralization test, including plaque reduction, plaque inhibition, and microtiter neutralization, can be used to detect type-specific antibody. ## Treatment and Control of Bluetongue in Ruminants There is no specific treatment for animals with bluetongue apart from rest, provision of soft food, and good husbandry. Complicating and secondary infections should be treated appropriately during the recovery period.  Prophylactic immunization of sheep remains the most effective and practical control measure against bluetongue in endemic regions. Attenuated and inactivated vaccines against BTV are commercially available in some countries. Three polyvalent vaccines, each comprising five BTV serotypes, are widely used in southern Africa and elsewhere. A monovalent (BTV type 10) modified live virus vaccine is available for use in sheep in the US. Use of vaccines with different serotypes does not provide consistent cross-protection. Live, attenuated virus vaccines should not be used during Culicoides vector seasons because these insects may transmit the vaccine viruses from vaccinated to nonvaccinated animals (eg, other ruminant species). The result may be reassortment of genetic material, giving rise to new viral strains. Passive immunity in lambs usually lasts 2–4 months.  Control of bluetongue is different in areas where the disease is not endemic. During an outbreak, when one or a limited number of serotypes may be involved, vaccination strategy depends on the serotypes causing infection. Use of vaccine strains other than those causing infection affords little or no protection and is not recommended. The potential risk from vaccine virus reassortment with wild-type viral strains, virus transmission by the vectors to other susceptible ruminants, and reversion to virulence of vaccine virus strains or even the production of new BTV strains of uncertain virulence should also be considered. The use of inactivated vaccines in BTV incursions into northern Europe has played a major part in controlling virus transmission in those regions where extensive vaccination rates (>80%) have been achieved.  Control of vectors by the use of insecticides or protection from vectors may lower the number of Culicoides bites and subsequently the risk of exposure to BTV infection. However, these measures alone are unlikely to effectively halt a bluetongue epidemic and should be regarded as mitigation measures to be used alongside a comprehensive and vigorous vaccination program. ## Key Points ## For More Information\\n\\nurl: https://www.merckvetmanual.com/reproductive-system/uterine-diseases-in-production-animals/metritis-in-production-animals\\nname: Metritis in Production Animals\\ndocument: ## Cows In cows, metritis is a common polymicrobial disease, especially within the first 2 weeks after parturition. Acute puerperal metritis refers to a severe postpartum uterine infection that results in systemic signs of toxemia. Clinical metritis is used as a general term for postpartum uterine infections, which may not be associated with systemic signs. Infectious reproductive system disease (eg, brucellosis, leptospirosis, trichomoniasis, and campylobacteriosis) may also cause metritis.  ### Etiology and Pathogenesis of Metritis in Cows As a result of advancements in culture-independent techniques and sequencing, it is now understood that the uterine microbiome of cows developing postpartum metritis deviates in favor of a higher relative abundance of Bacteroidetes and Fusobacteria and lesser relative abundance of\\xa0Proteobacteria\\xa0and\\xa0Tenericutes. The shift in the uterine microbiome has been suggested to be a dysbiosis characterized by a loss of heterogeneity and a decrease in bacterial richness, with\\xa0Bacteroides,\\xa0Porphyromonas, and\\xa0Fusobacterium\\xa0having the strongest association with development of metritis. ### Epidemiology of Metritis in Cows Risk factors associated with the occurrence of postpartum metritis include stillbirth; twins; dystocia; retention of fetal membranes; male calf; primiparity; reduced feed intake 2–3 weeks before calving; subclinical hypocalcemia; high nonesterified fatty acids, beta-hydroxybutyrate, and haptoglobin in the first week after parturition; and poor perineal area hygiene. The cumulative incidence of postpartum metritis ranges from 10%–25% of cows in the lactation period on most dairy farms.1 Affected cows have reduced milk production, impaired reproductive performance, and higher likelihood of endometritis, culling, and death.  ### References ### Clinical Findings of Metritis in Cows The distinction between acute puerperal metritis and clinical metritis is pivotal because acute puerperal metritis requires treatment, whereas clinical metritis does not.  Acute puerperal metritis is characterized by an abnormally enlarged uterus and the presence of fetid, watery, reddish-brownish uterine discharge generally associated with signs of systemic illness such as decreased milk production, inappetence, depression, and fever >39.5°C.  Clinical metritis is characterized by an abnormally enlarged uterus and purulent uterine discharge detectable in the vagina within 21 days after parturition. ### Diagnosis of Metritis in Cows Metritis can be diagnosed based on visual observation of the characteristic discharge at the perineal area. Vaginal discharge collection devices (consisting of a rubber collection cup on a stainless steel rod)1 to collect the discharge accumulated in the cranial vagina are commercially available. A vaginal discharge scoring system for cows in the early postpartum period has been described.  ### Notes ### Treatment of Metritis in Cows The primary antimicrobial used to treat metritis in cows is ceftiofur. Two formulations are available on the market: ceftiofur hydrochloride (2.2 mg/kg, IM, every 24 hours for 5 days) and ceftiofur crystalline free acid (6.6 mg/kg, SC in the fat pad behind the ear twice, 72 hours apart). Other antimicrobials that have been used to treat metritis with an efficacy similar to that of ceftiofur include procaine G penicillin (22,000 U/kg, IM, every 24 hours for 5 days), oxytetracycline (11 mg/kg, IV or SC, once at diagnosis, or 6 g, intrauterine, twice a week), and ampicillin trihydrate (11 mg/kg, IM, every 24 hours for 5 days). Only the two ceftiofur formulations and oxytetracycline are labeled to be used in the US.  Cows with more severe clinical signs such as lethargy, anorexia, and fever might benefit from additional supportive care. Fluid therapy should be administered, including 50% dextrose (500 mL, IV slowly; may be repeated in several hours or on successive days as needed), as most metritic cows are ketotic, and hypertonic saline (7.2%) solution (500 mL, IV, as needed judged on clinical condition of patient; provide adequate access to drinking water during administration), as most metritic cows are dehydrated. Anti-inflammatory treatment may be provided with flunixin meglumine (2.2 mg/kg, IV, every 24 hours for 3 days), ketoprofen (3 mg/kg, IM or IV, every 24 hours for up to 3 days), or aspirin (5–300 mg/kg, PO, every 24 hours for 5 days).  On organic dairy farms, alternative therapies used include povidone-iodine (200 mL diluted in 2 L of distilled water) and essential oil based on carvacrol (3.75 mL diluted in 117 mL of distilled water). ### Prevention of Metritis in Cows Several new preventives under development have been shown to reduce the incidence of metritis. These include a vaccine based on strains of\\xa0Escherichia coli,\\xa0Fusobacterium necrophorum, and\\xa0Trueperella pyogenes\\xa0and virulence factors from these bacteria; a recombinant bovine interleukin-8 formulation; and probiotics based on a combination of\\xa0Lactobacillus sakei and strains of\\xa0Pediococcus acidilactici.\\xa0Other measures that might help reduce the incidence of metritis include keeping the maternity area clean, using bulls that produce small calves, and feeding antioxidants. The antioxidants vitamin E, selenium, and beta-carotene have been shown to reduce the incidence of retained fetal membranes, which ultimately might help reduce the incidence of metritis. ## Horses In mares, two classifications of metritis are relevant: postpartum metritis (acute metritis) and contagious equine metritis (CEM). Postpartum metritis is generally associated with the trauma at foaling and retention of fetal membranes occurring within 10 days after parturition (more commonly 2–4 days after parturition). In contrast, CEM is an acute venereal disease caused by the bacteria\\xa0Taylorella equigenitalis, which establishes subclinical infections in stallions and chronically infected mares. The disease is more commonly diagnosed in Europe, but technical challenges in the propagation of the causative organism prevent accurate determination of the precise distribution of the disease.  ### Etiology and Pathogenesis of Metritis in Horses The specific pathogenesis of postpartum metritis remains unclear. It has been hypothesized that disruption of the endometrial mucosal barrier either is caused during dystocia or gradually progresses after retention of fetal membranes leading to excessive bacterial proliferation and, in some cases, toxemia. The major pathogens, virulence factors, and specific mechanisms are not well elucidated, but more commonly isolated bacteria include\\xa0Escherichia coli,\\xa0Streptococcus spp, and sometimes\\xa0Bacteroides fragilis\\xa0and clostridial species.  The other type of metritis, CEM, is caused by the gram-negative, microaerophilic coccobacillus Taylorella equigenitalis. It is fastidious and slow growing. Notable strain differences exist. Although transmitted primarily at mating, infected fomites also play a role. Undetected infected mares and stallions are the sources of new outbreaks. Infected stallions show no signs and shelter the organism in the smegma of the prepuce and the surface of the penis, especially in the urethral fossa. ### Epidemiology of Metritis in Horses The transmission rate of CEM is exceptionally high; virtually every mare mated by an infected stallion becomes infected.  Contagious equine metritis is an OIE-listed disease. The US is considered CEM free, and CEM is included on the US National List of Reportable Animal Diseases. It is immediately reportable to the USDA and State Animal Health Officials in all 50 states and territories. Strict import regulations exist in many countries to avoid the introduction of CEM, and the prevalence of the disease appears to be low. ### Clinical Signs of Metritis in Horses Postpartum metritis in horses often is associated with a fetid copious vulvar discharge that may have remnants of fetal membranes, particularly in mares with trauma and necrosis of the birth canal. In some cases, septic shock might develop without evident vulvar copious discharge (likely a result of uterine atony and inertia), and the cases might also lead to the development of laminitis. Repeated abdominal straining occasionally arises when vaginal necrosis, lacerations, or placental remnants are present. The first noticeable clinical signs are inappetence, lethargy, fever, and in some cases, lameness. If the mare develops toxemia, dehydration will follow. The foal frequently suckles, but because of the decreased milk production, it does not seem to be satisfied. The heart and respiratory rates are often increased in mares that have a fever. Mares with postpartum septic metritis seem to be more predisposed to develop laminitis.  In mares with CEM, a copious, mucopurulent vaginal discharge is seen 10–14 days after infected matings.\\xa0Early return to estrus after a shortened cycle occurs in most affected mares. Although the discharge subsides after a few days, mares may remain infected for several months. Chronically infected mares show no signs. Most mares do not conceive at the time of infected mating. If they do, they may infect the foal at or shortly after birth. Foals so infected may become carriers when they reach sexual maturity. ### Diagnosis of Metritis in Horses To diagnose metritis in mares, an aseptic manual assessment of the birth canal should be performed to identify associated swelling, hemorrhage, or necrotic tissue. Rectal palpation or transrectal ultrasonographic examination can identify an enlarged flaccid uterus with an excessive amount of variably echogenic contents. A digital inspection of the uterine lumen may reveal placental remnants, including a retained tip of the fetal membranes. Swabbing the uterine lining and lochia for bacterial culture is recommended to identify the organisms present and to guide antimicrobial selection. If the mare is septic, a CBC often reveals absolute neutropenia (ie, often <1,500 neutrophils/mcL) with a degenerative left shift. When concurrent foot soreness is present, radiography is recommended to assess potential problems such as laminitis with rotation and sinking of the distal phalanx.  For CEM, the specific diagnosis depends on isolation of the causative organism. In mares, swabs for culture should be taken from the endometrium (preferably during estrus) and the clitoral fossa and sinuses. Swabs from suspected stallions should be taken from the urethral fossa, urethra, preputial cavity, shaft of the penis, and, if possible, pre-ejaculatory fluid or ejaculate. Stallions should be sampled at least three times before being declared free of the disease. Test-mating suspect stallions to susceptible mares that are then screened bacteriologically constitutes a satisfactory way to determine CEM status. Swabs should be placed in Amies transport medium and kept on ice or at 4°C for delivery to a qualified laboratory within 24 hours (or frozen, if transport takes longer). Some strains are sensitive to streptomycin, while others are resistant, which helps isolate this fastidious, slow-growing organism from contaminants. It is best cultured on chocolate Eugon agar at 37°C in an atmosphere of 5%–10% CO2 in air.\\xa0Taylorella equigenitalis\\xa0is asaccharolytic but positive for catalase, cytochrome oxidase, and phosphatase and is unreactive to other conventional biochemical tests. Various serologic tests have been developed, but none is capable of reliably detecting the carrier status. Molecular testing methods such as PCR assay are now commonly used to detect Taylorella from swabs and culture plates and can differentiate between T equigenitalis and T asinigenitalis.  Lesions in mares with CEM include edema and hyperemia of the endometrium, the endocervix, and the vaginal mucosa. The microscopic lesions include invasion of the affected tissues by neutrophils during the acute stage, and by lymphocytes, macrophages, and plasma cells later in the course of the infection. ### Treatment of Metritis in Horses To treat postpartum metritis, broad-spectrum antimicrobials effective against both\\xa0gram-positive\\xa0and\\xa0gram-negative\\xa0bacteria are recommended. Some of the common antimicrobials used include gentamicin (6.6 mg/kg, IV, every 24 hours) and potassium penicillin (22,000–44,000 U/kg, IV or IM, every 6 hours until 2 days after clinical signs resolve). When endotoxemia is suspected, polymyxin B (1,000–6,000 U/kg, IV slowly, every 6–8 hours) and pentoxifylline (7.5–10 mg/kg, PO or IV, every 8–12 hours) may be added. The latter may improve the malleability of RBCs and improve circulation to the vasculature of the foot. Administration of flunixin meglumine (0.25 mg/kg, IV, every 8 hours) is also recommended in cases where endotoxemia is suspected. Specific treatment of the genital tract includes oxytocin (10–20 U per mare, IM, every 6 hours as needed), stimulating uterine contractions (lasting 20–50 minutes) that aid in the expulsion of uterine contents. Whether there is an additional benefit in administering local antimicrobials by uterine infusion is controversial. There may be some benefit from controlled exercise if foot soreness is not present.  For CEM, in most mares, the uterine infection is eliminated after a few weeks. Those that become chronically infected harbor the\\xa0T equigenitalis\\xa0in the clitoral fossa or sinuses. These mares can be treated by thoroughly cleaning the clitoral area with chlorhexidine surgical scrub and then applying nitrofurazone ointment (as for the stallion). In some mares, surgical excision of the clitoral sinuses may be required to rid them of infection. Stallions can be treated by thoroughly cleaning the extended penis with chlorhexidine surgical scrub and then applying nitrofurazone ointment. This treatment should be repeated daily for 5 days and the stallion retested at least 10 days after treatment. ### Prevention and Control of Metritis in Mares Postpartum metritis is highly associated with trauma at foaling and retention of fetal membranes. Thus, the prevention of these conditions may reduce indirectly the odds of postpartum development of metritis.  Control of CEM depends on the identification of infected carrier animals and their treatment or elimination from breeding programs. ## Pigs Metritis in sows and gilts has been associated with prolonged or manual-assisted farrowing. It has also been linked to mastitis and agalactia syndrome. The urinary tract has been suggested as a source of endotoxins and bacteria that can infect the genital tract, leading to metritis.  ### Etiology and Pathogenesis of Metritis in Pigs The pathogenesis of metritis in sows and gilts remains unclear. It has been speculated that the factors predisposing sows to urinary tract infection also increase their susceptibility to metritis. The uterine microbiome of sows shares a large number of microbes with the swine fecal microbiome. Some of these microbes commonly cultured in cases of metritis (ie, Escherichia coli,\\xa0Staphylococcus aureus, and\\xa0Trueperella pyogenes) have been identified as potential pathogens acquired at parturition. Environmental contamination with feces during farrowing and increased bacterial proliferation and infection of the uterus (in the setting of immunosuppression by progesterone and pregnancy) can lead to the development of metritis. Infusion practices and unclean intervention during parturition also seem to increase the risk of metritis development. ### Clinical Signs of Metritis in Pigs Metritis in sows is characterized by a white to brown, necrotic, malodorous discharge that often has remnants of fetal membranes within 48 hours after arrowing. Metritis may be associated with fever, decreased appetite, anorexia, sepsis, mastitis, and agalactia that can lead to an increased mortality rate for piglets. ### Diagnosis of Metritis in Pigs The diagnosis of metritis in sows is based on the appearance of vaginal discharge and the malodorous nature of this discharge. ### Treatment of Metritis in Pigs The treatment of metritis is based on the use of systemic antimicrobials selected on the basis of in vitro\\xa0susceptibility. Intrauterine infusions seem to result in an uncertain outcome, with narrow-spectrum antimicrobials reducing some pathogens but increasing others. ### Prevention of Metritis in Pigs Proper hygiene, especially the removal of fecal material during and after parturition, is critical to minimize the risks of metritis development. When manual intervention is needed at farrowing, assistants must wash their hands and arms, wear well-lubricated arm-length sleeves, and wash the perineal region of the sow before manual entry into the birth canal. The facilities used for farrowing and nursing must be cleaned with hot water (>95°C), disinfected, and dried before sows are moved in. It may be helpful to wash sows with soap and water, with particular attention given to the mammary area, before entry into the farrowing facility. All sows requiring manual assistance during parturition should be identified and treated with an effective antimicrobial. Rectal temperatures should be monitored daily, and sows with a rectal temperature >40°C should be treated for 3–5 days. ## Goats and sheep Metritis is often associated with retention of fetal membranes or trauma to the uterus during dystocia, and it may lead to infertility in some goats. In ewes, metritis is often associated with a dead fetus, assisted delivery of multiple lambs without proper hygiene, and uterine prolapse.  ### Etiology and Pathogenesis of Metritis in Goats and Sheep The pathogenesis of metritis in ewes and goats is not well understood, but in goats, clostridial organisms, frequently\\xa0Clostridium tetani\\xa0and\\xa0C perfringens, may colonize the uterus and cause toxemia and death of affected does. ### Clinical Signs of Metritis in Goats and Sheep Acute, postpartum metritis in goats and sheep is characterized by a malodorous, dark red uterine discharge. Does are febrile (40°C–41.5°C) and anorectic. In goats, severe metritis may be complicated by peritonitis. Ewes with metritis have a red to brown discharge on the wool of the tail and perineum, and also may have a swollen vulva. The ewe may be lethargic, with a reduced appetite, and a reluctance to nurse that is associated with persistent suckling attempts of the hungry lambs. The ewe may spend extended periods in sternal recumbency. ### Treatment of Metritis in Goats and Sheep Therapy for metritis includes systemic antimicrobials and fluid therapy, if necessary. It has been suggested that repeated oxytocin or prostaglandin injections may facilitate uterine evacuation. Ancillary therapy for tetanus and endotoxemia may be helpful.\\n\\nurl: https://www.merckvetmanual.com/musculoskeletal-system/lameness-in-sheep/foot-abscesses-in-sheep\\nname: Foot Abscesses in Sheep\\ndocument: ## Bumblefoot (Infective Bulbar Necrosis, Heel Abscess) in Sheep Bumblefoot is a necrotizing or purulent infection involving the distal interphalangeal soft tissues and sometimes the joint. The incidence is usually sporadic, but as much as 25% of the flock may be affected.  The two organisms most consistently recovered from bumblefoot are Fusobacterium necrophorum and Trueperella pyogenes. Foot abscesses may develop as a complication of ovine interdigital dermatitis by extension of the necrotic process into the subcutis and then into the distal interphalangeal joint. They also commonly develop after penetration of the interdigital skin by sharp objects (eg, crusted snow or frozen or stiff stubble of alfalfa and grain), bruising of the foot and injury of the skin when slipping on frozen rocks, or even careless paring of the hoof. This joint is vulnerable to infection on the interdigital aspect where the joint capsule protrudes above the coronary border as the dorsal and volar pouches. At these sites, the joint capsule is protected only by the interdigital skin and a minimal amount of subcutaneous tissue.  Foot abscesses often develop when the soil and pastures are wet or frozen. The disease causes an acute lameness that is usually restricted to one foot, which the sheep will not place on the ground. It may be possible to express necrotic material through an opening in the interdigital skin caused by the bacterial invasion, but more commonly, the swollen sinuses break open and drain at one or more points above the coronet. If this does not occur, the swelling will have to be lanced. In some instances, movement of the affected digit is exaggerated, indicating that the ligaments about the distal interphalangeal joint have ruptured. Displacement of the digit during locomotion and permanent deformity are likely in those cases.  Clinical signs include acute lameness, with the sheep often non–weight-bearing on the affected limb. Swelling of one digit and discharging abscesses distinguish foot abscesses from footrot.  Early treatment with parenteral, long-acting antimicrobials is sometimes effective and may prevent joint infection. The aim of treatment is to maintain the integrity of the joint ligaments by draining the abscess and applying an antimicrobial preparation and a self-adhesive bandage. This reduces stress on the ligaments, keeps the lesion out of the mud, and counters the microbial infection. Although the prognosis for complete recovery is poor, in most cases the foot heals sufficiently to allow adequate locomotion. Once the infection becomes established in the joint, conservative treatment is not effective. However, a toe can be surgically removed (if the other digit is healthy) with relatively good success.  Control depends on early treatment and moving the sheep to avoid conditions that lead to ovine interdigital dermatitis or other causes of infection. Although F necrophorum vaccines are available, they have not proved to be very effective. ## Septic Laminitis (Toe Abscess, Lamellar Supparation) in Sheep Septic laminitis is an acute bacterial infection of the laminar matrix of the hoof that is usually restricted to the toe and abaxial wall. The disease is sporadic and the cause variable, but cases due to Fusobacterium necrophorum and Trueperella pyogenes usually are more severe and extensive than those involving streptococci or other organisms. The organisms probably enter through fissures between the wall and sole and through vertical and horizontal fractures of wall horn. Sometimes, infection is enhanced by impaction with sand, mud, or feces; by overgrowth of the hoof; or by separation of the wall after laminitis.  Clinical signs of septic laminitis include acute, severe lameness. There is typically no swelling of the soft tissue structures; however, the sheep shows signs of pain on palpation of the affected claw. If left untreated, there may be\\xa0a draining sinus above the lesion at the\\xa0coronet,\\xa0or an abscess may be found above the sole on the bottom of the foot. Applying pressure to various sections of the sole with the thumbs will elicit signs of pain and help locate the pocket of infection. Affected sheep usually recover rapidly after paring of the horn to provide dependent drainage. If signs of pain persist after paring of the hoof, a small wooden block can be glued to the healthy claw to reduce weight-bearing on the affected claw.\\n\\nurl: https://www.merckvetmanual.com/reproductive-system/brucellosis-in-large-animals/overview-of-brucellosis-in-large-animals\\nname: Overview of Brucellosis in Large Animals\\ndocument: Brucellosis is caused by bacteria of the genus Brucella and is characterized by abortion, retained placenta, and to a lesser extent, orchitis and infection of the accessory sex glands in males. The disease occurs in most countries. It primarily affects cattle, buffalo, bison, pigs, sheep, goats, dogs, elk, and occasionally horses. The disease in humans, referred to as undulant fever, is a serious public health problem, especially when caused by B melitensis.\\n\\nurl: https://www.merckvetmanual.com/musculoskeletal-system/lameness-in-sheep/impacted-or-infected-oil-gland-in-sheep\\nname: Impacted or Infected Oil Gland in Sheep\\ndocument: Sheep have a sebaceous (oil) gland in the skin of the interdigital space. A thick, oily, translucent secretion is stored in a small pouch between the phalanges and is discharged to the skin surface via a duct in the skin. Occasionally, the gland and its contents are mistaken for an abscess. However, the duct can become occluded, causing distention of the oil pouch. It rarely causes lameness. The oil sac also may become infected, resulting in a local cellulitis or abscess that may be confused with bumblefoot. Expression of the contents by manual pressure relieves impaction. Infected glands can then be treated with antimicrobials administered locally, systemically, or both, depending on the extent and severity of the infectious process. Unlike bumblefoot, this condition generally responds readily to treatment.\\n\\nurl: https://www.merckvetmanual.com/exotic-and-laboratory-animals/mink/viral-diseases-of-mink\\nname: Viral Diseases of Mink\\ndocument: ## Aleutian Disease of Mink Aleutian disease (AD), or mink plasmacytosis, is an important disease in mink resulting from infection with Aleutian mink disease virus (AMDV). An amdoparvovirus within the family Parvoviridae, AMDV is distinct from the parvovirus responsible for causing mink viral enteritis. Infection with AMDV is widespread among farmed and wild mink around the world.  Clinical signs depend on the age of the animals infected. In adult mink, AD is an immune-mediated disease that causes chronic wasting and unthriftiness, with poor reproductive performance and increased congenital malformations and abortions, poor pelt quality, oral and GI bleeding with tarry feces, renal failure and uremia, and increased mortality. In adult mink, viral infection results in increases in plasma cells that produce non-neutralizing antibodies. Massive increases in plasma cell production after infection result in lymphadenopathy, splenomegaly, and hypergammaglobulinemia. Viral-antibody complexes are taken up by macrophages, the target host cell, and immune complexes. Infected macrophages may be deposited in blood vessels and the kidneys, resulting in necrotizing arteritis and proliferative glomerulonephritis. In the acute neonatal form of AD, the virus targets pneumocytes, with subsequent interstitial pneumonia and respiratory disease, presenting as severe dyspnea with high litter mortality.  All coat colors (phases) of mink may be infected with AMDV; however, animals with dilute coat colors (eg, pastels) carry the Aleutian coat color gene and are genetically more susceptible to developing AD after AMDV infection. Virus transmission occurs both vertically, with viral replication within the placenta, and horizontally, by direct or indirect contact with infected mink; blood, saliva, and feces from infected mink; contaminated caging, feed, gloves, clothing, and equipment; via transfer by various biological vectors, such as flies, mosquitoes, and birds; and via various contaminated fomites, such as dust, bedding, or hair. Because the disease is chronic and may take a year or longer for clinical signs to appear, virus shedding can occur for months from inapparent infected carriers. Infected animals may be less tolerant of weather extremes and commonly develop secondary bacterial infections because of AMDV-induced immunocompromise. The extent of virulence varies among different strains of AMDV.  Aleutian disease is generally managed with a test and cull program. Positive mink are identified by testing blood samples for AMDV antibodies by counterimmunoelectrophoresis. A few drops of blood are collected by nail clip or lancet puncture of the footpad from live animals or from the heart blood of dead animals. The counterimmunoelectrophoresis assay is the most practical way to test large numbers of animals on a farm. Virus-specific antibody ELISA and dot immunoassays of blood samples are used for diagnosis in some places, and PCR assays for AMDV are also available at some veterinary diagnostic laboratories and may be used on rectal or saliva swabs or blood or tissue samples (eg, from the spleen). All AMDV-positive mink should be humanely killed on-farm. Mink to be kept for breeding should be tested in late fall before selection of breeding stock and pelting, as well as tested in January or February before breeding. New introductions to the herd also should be tested and only integrated into existing populations after receipt of negative test results.  There is no effective treatment or vaccine available for AD. Research is ongoing to select mink genetically resistant to AMDV infection. The virus is extremely resistant in the environment and can survive harsh temperatures and attempts at chemical inactivation. Pens and nest boxes housing known or suspect positive animals should be thoroughly cleaned and disinfected after they are emptied, and manure should be removed from sheds regularly. Hair adherent to caging and old bedding should be burned. The watering system should be cleaned periodically. Use of high-pressure sprayers in sheds is not recommended because this may aerosolize contaminated fomites. All equipment should be disinfected after handling, vaccinating, or testing mink. To help minimize transmission on a farm, AMDV-positive animals should be housed in separate sheds from AMDV-negative animals, if possible, with separate equipment and gloves used between these sheds. For all activities, AMDV-negative animals should be handled before AMDV-positive animals. On-farm integrated pest management programs are essential to help reduce spread of AMDV. Escape or release of farmed mink contribute to the spread of the virus within wild carnivore populations. Perimeter fences are recommended around sheds and manure holding areas to restrict domestic and wild animal contact with mink and their excreta.  Aleutian disease has zoonotic potential and has been rarely reported to cause clinical disease in humans. ## Canine Distemper Infection of Mink Mink of all ages are susceptible to infection with canine distemper virus (hard pad disease), a morbillivirus within the family Paramyxoviridae. The virus is highly infectious, and mortality can be very high, exceeding 80%.  Clinical signs are inconsistent and may include oculonasal discharge; conjunctivitis; photophobia; crusting of the skin around the eyes, on the muzzle, feet, and ventral abdominal wall; thickening (orthokeratotic hyperkeratosis) of the skin on the nose and footpads (hard pad); diarrhea; pneumonia; and neurologic signs (eg, seizures and vocalization) alone or in combination. Animals with viral pneumonia may die from secondary opportunistic bacterial infections.  The virus is typically transmitted via aerosol of respiratory droplets and other exudates between animals. Indirect transmission is less common because of virus fragility outside the host. The disease incubation period is variable, averaging 4–8 weeks, which makes retrospective epidemiologic investigation of outbreaks difficult. Recovered mink may continue to shed the virus for several weeks.  Diagnosis can be made by histologic evaluation, immunohistochemical evaluation, ELISA, or PCR assay. Characteristic intracytoplasmic and intranuclear inclusion bodies and syncytial cells are often present in the lungs, urinary bladder, kidneys, bile ducts, intestine, trachea, and occasionally brain of affected animals.  There is no specific treatment for canine distemper virus in mink. Affected mink should be humanely killed, and the balance of the herd vaccinated with a modified-live virus vaccine as soon as possible. Deaths from neurotropic distemper may occur until 12 weeks after vaccination. Kits should be vaccinated prophylactically when 10–12 weeks old with a modified-live virus vaccine. If vaccinated too early, before concentrations of maternal antibodies have waned, vaccination may be ineffective, resulting in no or only partial protection. Adults and kits on a farm are typically vaccinated at the same time. The virus does not persist for long periods outside the host and is susceptible to ultraviolet light, heat, and drying. Pens and nest boxes housing previously affected animals should be sanitized and disinfected between animals. Canine distemper virus can also be transmitted to farmed mink from domestic and wild carnivores; thus, it is important to exclude both from mink sheds with good on-farm biosecurity programs, including perimeter fences. ## Mink Viral Enteritis Mink viral enteritis is a highly contagious disease caused by infection with mink enteritis virus, a protoparvovirus related to that causing feline panleukopenia. Mink of all ages are susceptible, and morbidity is variable, with up to 10% mortality of affected animals (predominantly kits). Transmission occurs by the fecal-oral route, and the incubation period is approximately 4–10 days.  Clinical signs may include weight loss, poor pelage, anorexia, depression, watery to hemorrhagic diarrhea, dehydration, and death. Affected animals may die from secondary bacterial enteritis. Gross lesions include flaccid, dilated loops of small intestine with watery, sometimes hemorrhagic content. Some mink may die suddenly with no gross lesions. Microscopically, intestinal lesions are characterized by erosion or ulceration of the mucosa, with blunting and attenuation of villi and dilatation of crypts. Ballooned crypt epithelial cells may contain basophilic intranuclear inclusion bodies. To confirm the diagnosis, ELISA or fluorescent antibody procedures can be used. Splenic and lymph node lesions include lymphoid depletion and necrosis.  Early in an outbreak, all mink with clinical signs should be culled or isolated, and all clinically normal mink should be vaccinated immediately. Affected mink can be treated with a mixture of kaolin, pectin, and neomycin administered by mouth. Mink viral enteritis can be prevented by vaccination. All mink should be vaccinated when they reach at least 6–8 weeks of age with a combination 3-way vaccine containing mink enteritis virus, Clostridium botulinum toxoid, and \\u2009Pseudomonas bacterin. Annual vaccination is recommended. The virus is highly resistant in the environment but is inactivated at high pH. Differential diagnoses include other viral and bacterial causes of enteritis. ## Preweaning Diarrhea (Sticky Kit Syndrome) of Mink Preweaning diarrhea, or sticky kit syndrome, is a multifactorial syndrome characterized by watery to catarrhal diarrhea, perianal irritation with or without rectal prolapse, and exudative or pustular dermatitis affecting the apocrine glands around the neck and perineal areas, conferring a greasy or sticky appearance. The syndrome affects kits between 1 and 4 weeks of age, and a few to large numbers of kits may be affected within a herd. Sometimes it presents as explosive outbreaks of diarrhea, with 30% or greater kit mortality. Affected kits may become dehydrated and die without supportive care. Even with treatment, animals may never fully recover in size, and pelts of affected animals may be of poor final quality. Infection with a GI variant of astrovirus is thought to be an important risk factor, as is infection with a mink-specific calicivirus. Various bacteria, including E coli, Staphylococcus delphini, and streptococci, also may be isolated from affected animals and may represent secondary infections.  Risk factors include increased farm size, increased litter sizes, and dam parity, with a higher proportion of affected kits coming from young (1-year-old) breeding females (both winter feed restriction and gestational feed restriction of females are associated with an increased incidence of the disease in their litters).  Virus may be shed from infected animals for up to 7 weeks after infection, emphasizing the need for good hygiene and disinfection of caging between animals. Sticky kit syndrome is an important differential diagnosis for mink viral enteritis. Treatment is nonspecific and supportive, and there is no preventive vaccine available. A mink-specific coronavirus and hepatitis E virus have also been isolated from mink; however, their role in inducing enteritis in mink is unknown. ## Influenza of Mink Mink of all ages are highly susceptible to influenza A strains of avian and mammalian origin. The virus is highly contagious, with variable, strain-dependent morbidity and mortality. Clinical signs include coughing and sneezing, and animals may be found dead suddenly in good body condition. Secondary bacterial infections may contribute to severity of the disease. Exposure to the influenza A virus can come from multiple sources. Contaminated raw pig offal or poultry products, incursions of infected wild birds, and sick humans all may be avenues for virus introduction. Treatment is nonspecific and supportive. Treating an entire farm may take 2–6 weeks. Immunity to the virus may be short-lived and is not cross-protective between strain variants. Humans with influenza should not enter mink sheds. ## SARS-CoV-2 in Mink The SARS-CoV-2 virus was first detected on two mink farms in the Netherlands in 2020; it has since been detected in many countries. Disease can range from mild to severe and resulting in death. Outbreaks are managed by culling of affected animals.  The virus can be transmitted to humans and other animals, and mink may be asymptomatic carriers. ## Pseudorabies (Aujeszky Disease) of Mink Pseudorabies occurs sporadically in mink fed pork offal contaminated with pseudorabies virus, a varicellovirus in the family Herpesviridae. On-farm mortality may be high, exceeding 80%, with a 100% case fatality rate. The incubation period is approximately 1–2 weeks, and clinical signs may include anorexia, abdominal and facial skin scratching, diarrhea, emesis, and lethargy, followed by tonic and clonic seizures, dyspnea, and death. Potentially contaminated feed should be removed immediately, with samples kept for testing. Diagnosis is confirmed by PCR assay of tissues (eg, spleen, lung, liver, or brain) from affected animals, virus isolation, or serology analysis. Because contaminated pork is the source of infection, all pork products should be thoroughly cooked before being fed to mink. Differential diagnoses include infection with mink enteritis virus or canine distemper virus or food poisoning (ie, bacterial- or toxin-contaminated feed). Pseudorabies is a reportable disease in most countries. ## Astrovirus of Mink (Shaky Mink Syndrome) A novel neurotropic astrovirus infection has been reported sporadically in mink kits. Morbidity is low, with only 1–2 kits affected per litter, and the case fatality rate is up to 25%. The disease is generally seen between late June and early August. Affected kits demonstrate tremors (shaking), ataxia, salivation, vocalization, inability to eat, and seizures. Some affected animals will recover if provided with food and water within easy reach. If clinical signs do not improve, euthanasia of affected mink is recommended for welfare concerns.  Microscopically, nonsuppurative encephalomyelitis with scattered neurodegeneration and lymphocytic and monocytic perivascular cuffing occurs in affected animals. Early in the course of the disease, astrovirus can be isolated; however, the virus is cleared by immunocompetent kits and may not be detected in chronically affected animals. This astrovirus is distinct from that associated with preweaning diarrhea of kits. Differential diagnoses include canine distemper virus infection, Aleutian disease, toxoplasmosis, and pseudorabies. ## For Further Information\\n\\nurl: https://www.merckvetmanual.com/infectious-diseases/high-pathogenicity-highly-pathogenic-avian-influenza-in-cattle/high-pathogenicity-highly-pathogenic-avian-influenza-in-cattle\\nname: High-Pathogenicity (Highly Pathogenic) Avian Influenza in Cattle\\ndocument: High-pathogenicity (aka highly pathogenic) avian influenza (HPAI) in cattle induces high morbidity rates (up to 40%, with an average range of 10–20%). Mortality rates are low (less than 5% reported); however, infected herds are at increased risk for elective culling due to failure to return to predisease milk production levels.  Clinical signs have been documented primarily in lactating dairy cattle and develop over approximately 2–3 weeks.\\xa0Mammary, digestive, and respiratory systems are primarily impacted. HPAI has been detected in milk and nasal swabs via PCR assay, in mammary glands and lungs on postmortem examination, and in muscle tissue at slaughter.  As of October 2024, disease outbreaks in 333 dairy herds had been reported to the USDA and confirmed as HPAI by the National Veterinary Services Laboratories (NVSL) in Texas, Kansas, Michigan, New Mexico, Idaho, Ohio, North Carolina, South Dakota, Colorado, Wyoming, Minnesota, Iowa, Oklahoma, and California.  Species affected include cattle, domestic poultry (chickens, turkeys, quail), wild birds, and a variety of domestic and wild mammals, including domestic cats, big cats in captivity, mice, desert cottontails, prairie voles, wild bobcats and mountain lions, bears (brown, black, and polar), bottlenose dolphins, gray and harbor seals, coyotes, red foxes, martens, mink, fishers, river otters, squirrels, raccoons, skunks, and opossums.  ## Etiology of High-Pathogenicity Avian Influenza in Cattle Avian influenza viruses are type A orthomyxoviruses (Alphainfluenzavirus\\xa0influenzae or\\xa0influenza A virus)\\xa0characterized by antigenically homologous nucleoprotein and matrix internal proteins, which are identified by serological testing such as agar gel immunodiffusion (AGID) or ELISA. Avian influenza viruses are further divided into 16 hemagglutinin (H1–H16) and 9 neuraminidase (N1–N9) subtypes. ## Epidemiology of High-Pathogenicity Avian Influenza in Cattle The epidemiology of HPAI in cattle is under investigation.\\xa0The whole genome sequence of the virus suggests that virus spilled over from wild birds to dairy cattle.  Transmission and incubation period of HPAI are also under investigation. The movement of apparently healthy lactating cows from one geographic location to another has revealed cow-to-cow transmission. Proposed mechanisms of viral transmission within a herd or from herd to herd include the following:  ### Morbidity and Mortality Feedback from monitoring clinically affected cows suggests that disease may develop slowly over several days to weeks or follow a bell curve. The curve may peak a week or more after the first clinical signs of disease appear.\\xa0At the peak, 5–60% of the herd can be clinically affected.  A retrospective review of clinically affected herds showed that up to 15% of affected cattle may die or be euthanized due to primary or secondary disease or comorbidity.\\xa0\\xa0As of October 2024, following HPAI infection, a variable percentage of cattle is electively culled due to failure to return to production. Following infection, production in many herds falls below baseline or projected historical levels, with some herds falling by up to 30%. ## Zoonotic Risk of High-Pathogenicity Avian Influenza in Cattle As of October 2024, HPAI infection had been confirmed in 17 humans associated with exposure to sick or infected dairy cows in the US. Clinical signs ranged from conjunctivitis to mild flulike clinical signs and acute respiratory illness. All 17 recovered.  The primary risk factor for HPAI infection in humans is contact with or infected dairy cattle.  People working closely with infected or potentially infected cattle, birds, or other animals are at risk for infection and should take proper precautions, including protecting the eyes, covering the nose and mouth, wearing gloves, laundering outerwear, and washing hands before eating or using tobacco. They should also use personal protective equipment (PPE), avoid exposure to sick or dead animals, and exercise caution when handling raw milk, feces, and bedding from suspected or confirmed sick animals. ## Clinical Findings of High-Pathogenicity Avian Influenza in Cattle Clinical signs, disease severity, and morbidity and mortality rates of HPAI in cattle vary.  From head to tail, the following clinical signs have been observed:  Cattle affected with HPAI are commonly diagnosed as off feed, lethargic, and febrile.\\xa0They may present with normal milk, with mastitis in one or more quarters, or with a thicker, creamier milk secretion.\\xa0Visually, the udder may appear as if the cow is drying off (decreased udder fill). Fecal and respiratory changes may be subtle or absent.  Herds monitoring individual animals via wearable technologies show a precipitous decrease in rumination time in minutes, rebounding but not returning to baseline minutes, and decreased physical activity (as measured by number of steps taken).  Anecdotally reported reproductive signs include abortions in mid-to-late gestation and a decreased number of animals in estrus during weeks with the highest level of clinical disease. ## Diagnosis of High-Pathogenicity Avian Influenza in Cattle After onset of clinical signs, the gold standard test for diagnosis of HPAI at the time of this publication is molecular assay (PCR or RT-PCR assay) on milk for influenza A matrix.\\xa0Not all quarters may be shedding, so collecting from all 4 quarters in a composite sample is important. For surveillance purposes, milk string/pen or bulk milk tank samples can be collected.  For dry cows, heifers, and calves, nasal swabs are the preferred diagnostic test.  ### Pearls & Pitfalls Follow-up testing for H5N1 (H5.2.3.4.4.b) and confirmation occurs at an NVSL site. Serological (serum antibody) testing is another surveillance method. More research is being conducted in this area because cows exposed to infection may not all consistently produce an immune response. A nasal or conjunctival swab can be collected for PCR assay from nonlactating animals or those that develop primary respiratory signs.  The Federal Order issued by the Animal Plant and Health Inspection Service (APHIS), USDA, effective April 29, 2024, established the framework for required testing for interstate movement and for reporting both PCR-positive milk samples and positive influenza A serological tests.  HPAI must be differentiated from other causes of high-morbidity disease, including infectious and environmental causes of respiratory disease, mastitis, and indigestion or diarrhea. Further investigation must also include reasons for decreased milk production, including management, feed, and animal husbandry factors.  ### Lesions No pathognomonic lesions or specific gross antemortem lesions have been observed or defined in cattle with HPAI.\\xa0Generalized vasculitis of mucous membranes, including the ocular conjunctiva and sclera, inside the nares, and the vaginal vestibule, has been observed. ## Treatment of High-Pathogenicity Avian Influenza in Cattle Treatment of HPAI centers around hydrating the patient, supporting the rumen, and decreasing fever.\\xa0Support includes feeding free choice hay or long-stemmed forage and administering oral drench and IV fluids, probiotics, injectable B vitamins to stimulate appetite, and transdermal or IV flunixin for fever associated with acute bovine mastitis and bovine respiratory disease, per label instructions. ## Prevention of High-Pathogenicity Avian Influenza in Cattle Biosecurity practices are being reviewed to understand the introduction and spread of HPAI in cattle. Measures include limiting access to essential personnel and creating designated locations for visitors, vehicles, and equipment. In addition, before being introduced to the herd, cattle should be tested, isolated, and monitored for 30 days. ## Key Points ## For More Information\\n\\nurl: https://www.merckvetmanual.com/generalized-conditions/tuberculosis-in-various-animals/tuberculosis-in-free-range-and-captive-wild-animals\\nname: Tuberculosis in Free-Range and Captive Wild Animals\\ndocument: Besides cervids, the major wildlife maintenance hosts of Mycobacterium tuberculosis complex infection are African buffalo, North American bison, water buffalo, lechwe, wild boars, brushtail possums, and European badgers. Species in which Mycobacterium bovis infection has been reported but that are considered spillover hosts include Arabian oryx, impala, sitatunga, springbok, eland, wildebeest, greater kudu, muntjac, deer, yak, European bison, Bactrian camel, dromedary, giraffe, white and black rhinoceros, tapir, warthog, moose, Iberian ibex, tiger, lion, snow leopard, Iberian lynx, coyote, brown bear, otters, large-spotted genet, hares, moles, voles, and hedgehogs, among others.  Several species have been found infected only in captive settings. M tuberculosis has been isolated from oryx, black rhinoceros, addaxes, and Rocky Mountain goats. Mycobacterium orygis has been isolated in Indian rhinoceros, axis deer, blue bulls, and rhesus monkeys; Mycobacterium suricattae, in meerkats; Mycobacterium mungi, in banded mongoose; and Mycobacterium microti, in wild boars, red deer, and rodents.  Tuberculous lesions vary in consistency from purulent to caseous and often involve the lungs and regional lymph nodes; other potential sites are liver, spleen, and serosal surfaces. Comparative intradermal tuberculin tests are conducted in the cervical region using Mycobacterium avium and M bovis purified protein derivative (PPD); however, interferon-gamma and serologic assays are increasingly being used in some species.\\n\\nurl: https://www.merckvetmanual.com/integumentary-system/cattle-grubs/overview-of-cattle-grubs\\nname: Overview of Cattle Grubs\\ndocument: Hypodermiasis of cattle in the Northern Hemisphere is due to infection with the larvae of botflies or warble flies (cattle grubs) of Hypoderma spp (order Diptera, family Oestridae). In Central and South America, larvae (tropical warbles) of Dermatobia hominis (order Diptera, family Cuterebridae) are important parasites affecting cattle.\\n\\n'},\n",
       " {'role': 'user', 'content': 'Hey'},\n",
       " {'role': 'assistant',\n",
       "  'content': \"To address the concern about a dog showing signs of lethargy, a discharge from the vulva, not eating well, and a slight fever (40°C), it appears that the most likely condition here is an infection related to the reproductive system, such as metritis or more specifically, pyometra in unspayed female dogs. \\n\\nBased on the provided information, a follow-up with a veterinarian should be done immediately. \\n\\n### Follow-up questions should include:\\n1. Is the dog spayed?\\n2. When was the dog's last heat cycle or parturition event?\\n3. What are the characteristics of the discharge (color, consistency, odor)?\\n4. Any additional symptoms like abdominal pain or frequent urination?\\n\\nA vet visit is important for a full examination, which may include an ultrasound, blood work, and a vaginal swab for bacterial culture. \\n\\nTreatment typically involves antibiotics for metritis, while a possible case of pyometra would often require surgical intervention such as an ovariohysterectomy (spaying).\"}]"
      ]
     },
     "execution_count": 11,
     "metadata": {},
     "output_type": "execute_result"
    }
   ],
   "source": [
    "messages"
   ]
  },
  {
   "cell_type": "code",
   "execution_count": null,
   "metadata": {},
   "outputs": [],
   "source": []
  },
  {
   "cell_type": "code",
   "execution_count": null,
   "metadata": {},
   "outputs": [],
   "source": []
  },
  {
   "cell_type": "code",
   "execution_count": null,
   "metadata": {},
   "outputs": [],
   "source": []
  },
  {
   "cell_type": "code",
   "execution_count": null,
   "metadata": {},
   "outputs": [],
   "source": []
  },
  {
   "cell_type": "code",
   "execution_count": null,
   "metadata": {},
   "outputs": [],
   "source": []
  },
  {
   "cell_type": "code",
   "execution_count": null,
   "metadata": {},
   "outputs": [],
   "source": []
  }
 ],
 "metadata": {
  "kaggle": {
   "accelerator": "none",
   "dataSources": [
    {
     "datasetId": 7089112,
     "sourceId": 11366803,
     "sourceType": "datasetVersion"
    }
   ],
   "dockerImageVersionId": 30918,
   "isGpuEnabled": false,
   "isInternetEnabled": true,
   "language": "python",
   "sourceType": "notebook"
  },
  "kernelspec": {
   "display_name": "Python 3 (ipykernel)",
   "language": "python",
   "name": "python3"
  },
  "language_info": {
   "codemirror_mode": {
    "name": "ipython",
    "version": 3
   },
   "file_extension": ".py",
   "mimetype": "text/x-python",
   "name": "python",
   "nbconvert_exporter": "python",
   "pygments_lexer": "ipython3",
   "version": "3.13.2"
  }
 },
 "nbformat": 4,
 "nbformat_minor": 4
}
