{
 "cells": [
  {
   "cell_type": "code",
   "execution_count": null,
   "metadata": {
    "execution": {
     "iopub.execute_input": "2025-04-10T10:30:55.073976Z",
     "iopub.status.busy": "2025-04-10T10:30:55.073608Z",
     "iopub.status.idle": "2025-04-10T10:30:55.080803Z",
     "shell.execute_reply": "2025-04-10T10:30:55.079484Z",
     "shell.execute_reply.started": "2025-04-10T10:30:55.073915Z"
    },
    "trusted": true
   },
   "outputs": [
    {
     "ename": "PydanticImportError",
     "evalue": "`BaseSettings` has been moved to the `pydantic-settings` package. See https://docs.pydantic.dev/2.10/migration/#basesettings-has-moved-to-pydantic-settings for more details.\n\nFor further information visit https://errors.pydantic.dev/2.10/u/import-error",
     "output_type": "error",
     "traceback": [
      "\u001b[0;31m---------------------------------------------------------------------------\u001b[0m",
      "\u001b[0;31mPydanticImportError\u001b[0m                       Traceback (most recent call last)",
      "Cell \u001b[0;32mIn[2], line 13\u001b[0m\n\u001b[1;32m     10\u001b[0m \u001b[38;5;28;01mfrom\u001b[39;00m \u001b[38;5;21;01mlangchain\u001b[39;00m\u001b[38;5;21;01m.\u001b[39;00m\u001b[38;5;21;01mtext_splitter\u001b[39;00m \u001b[38;5;28;01mimport\u001b[39;00m RecursiveCharacterTextSplitter\n\u001b[1;32m     11\u001b[0m \u001b[38;5;28;01mfrom\u001b[39;00m \u001b[38;5;21;01mlangchain\u001b[39;00m\u001b[38;5;21;01m.\u001b[39;00m\u001b[38;5;21;01mschema\u001b[39;00m \u001b[38;5;28;01mimport\u001b[39;00m Document\n\u001b[0;32m---> 13\u001b[0m \u001b[38;5;28;01mfrom\u001b[39;00m \u001b[38;5;21;01mchromadb\u001b[39;00m \u001b[38;5;28;01mimport\u001b[39;00m EmbeddingFunction, Embeddings\n\u001b[1;32m     14\u001b[0m \u001b[38;5;28;01mimport\u001b[39;00m \u001b[38;5;21;01mchromadb\u001b[39;00m\n\u001b[1;32m     15\u001b[0m \u001b[38;5;28;01mimport\u001b[39;00m \u001b[38;5;21;01mjson\u001b[39;00m\n",
      "File \u001b[0;32m/opt/anaconda3/envs/vetbot/lib/python3.13/site-packages/chromadb/__init__.py:1\u001b[0m\n\u001b[0;32m----> 1\u001b[0m \u001b[38;5;28;01mimport\u001b[39;00m \u001b[38;5;21;01mchromadb\u001b[39;00m\u001b[38;5;21;01m.\u001b[39;00m\u001b[38;5;21;01mconfig\u001b[39;00m\n\u001b[1;32m      2\u001b[0m \u001b[38;5;28;01mimport\u001b[39;00m \u001b[38;5;21;01mlogging\u001b[39;00m\n\u001b[1;32m      3\u001b[0m \u001b[38;5;28;01mfrom\u001b[39;00m \u001b[38;5;21;01mchromadb\u001b[39;00m\u001b[38;5;21;01m.\u001b[39;00m\u001b[38;5;21;01mtelemetry\u001b[39;00m\u001b[38;5;21;01m.\u001b[39;00m\u001b[38;5;21;01mevents\u001b[39;00m \u001b[38;5;28;01mimport\u001b[39;00m ClientStartEvent\n",
      "File \u001b[0;32m/opt/anaconda3/envs/vetbot/lib/python3.13/site-packages/chromadb/config.py:1\u001b[0m\n\u001b[0;32m----> 1\u001b[0m \u001b[38;5;28;01mfrom\u001b[39;00m \u001b[38;5;21;01mpydantic\u001b[39;00m \u001b[38;5;28;01mimport\u001b[39;00m BaseSettings\n\u001b[1;32m      2\u001b[0m \u001b[38;5;28;01mfrom\u001b[39;00m \u001b[38;5;21;01mtyping\u001b[39;00m \u001b[38;5;28;01mimport\u001b[39;00m Optional, List, Any\n\u001b[1;32m      3\u001b[0m \u001b[38;5;28;01mfrom\u001b[39;00m \u001b[38;5;21;01mtyping_extensions\u001b[39;00m \u001b[38;5;28;01mimport\u001b[39;00m Literal\n",
      "File \u001b[0;32m/opt/anaconda3/envs/vetbot/lib/python3.13/site-packages/pydantic/__init__.py:409\u001b[0m, in \u001b[0;36m__getattr__\u001b[0;34m(attr_name)\u001b[0m\n\u001b[1;32m    407\u001b[0m dynamic_attr \u001b[38;5;241m=\u001b[39m _dynamic_imports\u001b[38;5;241m.\u001b[39mget(attr_name)\n\u001b[1;32m    408\u001b[0m \u001b[38;5;28;01mif\u001b[39;00m dynamic_attr \u001b[38;5;129;01mis\u001b[39;00m \u001b[38;5;28;01mNone\u001b[39;00m:\n\u001b[0;32m--> 409\u001b[0m     \u001b[38;5;28;01mreturn\u001b[39;00m _getattr_migration(attr_name)\n\u001b[1;32m    411\u001b[0m package, module_name \u001b[38;5;241m=\u001b[39m dynamic_attr\n\u001b[1;32m    413\u001b[0m \u001b[38;5;28;01mif\u001b[39;00m module_name \u001b[38;5;241m==\u001b[39m \u001b[38;5;124m'\u001b[39m\u001b[38;5;124m__module__\u001b[39m\u001b[38;5;124m'\u001b[39m:\n",
      "File \u001b[0;32m/opt/anaconda3/envs/vetbot/lib/python3.13/site-packages/pydantic/_migration.py:296\u001b[0m, in \u001b[0;36mgetattr_migration.<locals>.wrapper\u001b[0;34m(name)\u001b[0m\n\u001b[1;32m    294\u001b[0m     \u001b[38;5;28;01mreturn\u001b[39;00m import_string(REDIRECT_TO_V1[import_path])\n\u001b[1;32m    295\u001b[0m \u001b[38;5;28;01mif\u001b[39;00m import_path \u001b[38;5;241m==\u001b[39m \u001b[38;5;124m'\u001b[39m\u001b[38;5;124mpydantic:BaseSettings\u001b[39m\u001b[38;5;124m'\u001b[39m:\n\u001b[0;32m--> 296\u001b[0m     \u001b[38;5;28;01mraise\u001b[39;00m PydanticImportError(\n\u001b[1;32m    297\u001b[0m         \u001b[38;5;124m'\u001b[39m\u001b[38;5;124m`BaseSettings` has been moved to the `pydantic-settings` package. \u001b[39m\u001b[38;5;124m'\u001b[39m\n\u001b[1;32m    298\u001b[0m         \u001b[38;5;124mf\u001b[39m\u001b[38;5;124m'\u001b[39m\u001b[38;5;124mSee https://docs.pydantic.dev/\u001b[39m\u001b[38;5;132;01m{\u001b[39;00mversion_short()\u001b[38;5;132;01m}\u001b[39;00m\u001b[38;5;124m/migration/#basesettings-has-moved-to-pydantic-settings \u001b[39m\u001b[38;5;124m'\u001b[39m\n\u001b[1;32m    299\u001b[0m         \u001b[38;5;124m'\u001b[39m\u001b[38;5;124mfor more details.\u001b[39m\u001b[38;5;124m'\u001b[39m\n\u001b[1;32m    300\u001b[0m     )\n\u001b[1;32m    301\u001b[0m \u001b[38;5;28;01mif\u001b[39;00m import_path \u001b[38;5;129;01min\u001b[39;00m REMOVED_IN_V2:\n\u001b[1;32m    302\u001b[0m     \u001b[38;5;28;01mraise\u001b[39;00m PydanticImportError(\u001b[38;5;124mf\u001b[39m\u001b[38;5;124m'\u001b[39m\u001b[38;5;124m`\u001b[39m\u001b[38;5;132;01m{\u001b[39;00mimport_path\u001b[38;5;132;01m}\u001b[39;00m\u001b[38;5;124m` has been removed in V2.\u001b[39m\u001b[38;5;124m'\u001b[39m)\n",
      "\u001b[0;31mPydanticImportError\u001b[0m: `BaseSettings` has been moved to the `pydantic-settings` package. See https://docs.pydantic.dev/2.10/migration/#basesettings-has-moved-to-pydantic-settings for more details.\n\nFor further information visit https://errors.pydantic.dev/2.10/u/import-error"
     ]
    }
   ],
   "source": [
    "from google import genai\n",
    "from google.genai import types\n",
    "\n",
    "from IPython.display import HTML, Markdown, display\n",
    "\n",
    "from google.api_core import retry\n",
    "\n",
    "\"\"\" LangChain Packages\"\"\"\n",
    "from langchain.vectorstores import Chroma\n",
    "from langchain.embeddings.vertexai import VertexAIEmbeddings\n",
    "from langchain.document_loaders import JSONLoader\n",
    "from langchain.text_splitter import RecursiveCharacterTextSplitter\n",
    "from langchain.schema import Document\n",
    "\n",
    "from chromadb import EmbeddingFunction, Embeddings\n",
    "import chromadb\n",
    "import json\n",
    "from tqdm import tqdm"
   ]
  },
  {
   "cell_type": "code",
   "execution_count": null,
   "metadata": {
    "execution": {
     "iopub.execute_input": "2025-04-10T10:30:55.235306Z",
     "iopub.status.busy": "2025-04-10T10:30:55.234892Z",
     "iopub.status.idle": "2025-04-10T10:30:55.662244Z",
     "shell.execute_reply": "2025-04-10T10:30:55.660901Z",
     "shell.execute_reply.started": "2025-04-10T10:30:55.235277Z"
    },
    "trusted": true
   },
   "outputs": [],
   "source": [
    "from openai import OpenAI\n",
    "import os\n",
    "\n",
    "api_key = os.getenv(\"OPENROUTER_API_KEY\")\n",
    "client = OpenAI(\n",
    "  base_url=\"https://openrouter.ai/api/v1\",\n",
    "  api_key=api_key,\n",
    ")\n",
    "\n",
    "\n",
    "is_retriable = lambda e: (isinstance(e, genai.errors.APIError) and e.code in {429, 503})\n",
    "\n",
    "genai.models.Models.generate_content = retry.Retry(\n",
    "    predicate=is_retriable)(genai.models.Models.generate_content)"
   ]
  },
  {
   "cell_type": "code",
   "execution_count": 29,
   "metadata": {
    "execution": {
     "iopub.execute_input": "2025-04-10T10:30:55.664098Z",
     "iopub.status.busy": "2025-04-10T10:30:55.663747Z",
     "iopub.status.idle": "2025-04-10T10:30:55.693294Z",
     "shell.execute_reply": "2025-04-10T10:30:55.692232Z",
     "shell.execute_reply.started": "2025-04-10T10:30:55.664069Z"
    },
    "trusted": true
   },
   "outputs": [],
   "source": [
    "file_path = \"/kaggle/input/vetbot-sources/merck_articles.json\"\n",
    "\n",
    "def extract_contents_with_path(data, base_path=\"\", metadata=None):\n",
    "    docs = []\n",
    "\n",
    "    if isinstance(data, dict):\n",
    "        for key, value in data.items():\n",
    "            new_path = f\"{base_path}.{key}\" if base_path else key\n",
    "\n",
    "            if key == \"content\" and isinstance(value, str):\n",
    "                doc_metadata = metadata.copy() if metadata else {}\n",
    "                doc_metadata[\"path\"] = base_path  # use path *before* reaching 'content'\n",
    "                docs.append(Document(page_content=value, metadata=doc_metadata))\n",
    "            else:\n",
    "                docs.extend(extract_contents_with_path(value, new_path, metadata))\n",
    "\n",
    "    elif isinstance(data, list):\n",
    "        for i, item in enumerate(data):\n",
    "            new_path = f\"{base_path}[{i}]\"\n",
    "            docs.extend(extract_contents_with_path(item, new_path, metadata))\n",
    "\n",
    "    return docs\n",
    "\n",
    "# Load the JSON\n",
    "with open(file_path, \"r\") as f:\n",
    "    raw_data = json.load(f)\n",
    "\n",
    "# Extract documents with full metadata paths\n",
    "docs = []\n",
    "for item in raw_data:\n",
    "    metadata = {\n",
    "        \"name\": item.get(\"name\"),\n",
    "        \"link\": item.get(\"link\"),\n",
    "    }\n",
    "    content_dict = item.get(\"content\", {})\n",
    "    document = extract_contents_with_path(content_dict, base_path=\"dog-owners\", metadata=metadata)\n",
    "    docs.extend(document)"
   ]
  },
  {
   "cell_type": "code",
   "execution_count": 30,
   "metadata": {
    "execution": {
     "iopub.execute_input": "2025-04-10T10:30:55.696123Z",
     "iopub.status.busy": "2025-04-10T10:30:55.695684Z",
     "iopub.status.idle": "2025-04-10T10:30:55.702193Z",
     "shell.execute_reply": "2025-04-10T10:30:55.701028Z",
     "shell.execute_reply.started": "2025-04-10T10:30:55.696079Z"
    },
    "trusted": true
   },
   "outputs": [],
   "source": [
    "# Use Vertex AI embeddings (Gecko)\n",
    "embedding_model = \"models/text-embedding-004\"\n",
    "\n",
    "class GeminiEmbeddingFunction(EmbeddingFunction):\n",
    "    # Specify whether to generate embeddings for documents, or queries\n",
    "    document_mode = True\n",
    "\n",
    "    @retry.Retry(predicate=is_retriable)\n",
    "    def __call__(self, input: Document) -> Embeddings:\n",
    "        if self.document_mode:\n",
    "            embedding_task = \"retrieval_document\"\n",
    "        else:\n",
    "            embedding_task = \"retrieval_query\"\n",
    "\n",
    "        response = client.models.embed_content(\n",
    "            model=embedding_model,\n",
    "            contents=input,\n",
    "            config=types.EmbedContentConfig(\n",
    "                task_type=embedding_task,\n",
    "            ),\n",
    "        )\n",
    "        return [e.values for e in response.embeddings]"
   ]
  },
  {
   "cell_type": "code",
   "execution_count": 31,
   "metadata": {
    "execution": {
     "iopub.execute_input": "2025-04-10T10:30:55.775062Z",
     "iopub.status.busy": "2025-04-10T10:30:55.774689Z",
     "iopub.status.idle": "2025-04-10T10:30:55.782185Z",
     "shell.execute_reply": "2025-04-10T10:30:55.780801Z",
     "shell.execute_reply.started": "2025-04-10T10:30:55.775033Z"
    },
    "trusted": true
   },
   "outputs": [
    {
     "name": "stderr",
     "output_type": "stream",
     "text": [
      "<ipython-input-31-1fcbcd56d82b>:3: DeprecationWarning: The class GeminiEmbeddingFunction does not implement __init__. This will be required in a future version.\n",
      "  embed_fn = GeminiEmbeddingFunction()\n"
     ]
    }
   ],
   "source": [
    "db_name = \"veterinary_articles\"\n",
    "\n",
    "embed_fn = GeminiEmbeddingFunction()\n",
    "embed_fn.document_mode = True\n",
    "\n",
    "# Extract content, metadata, and generate ids\n",
    "documents = [doc.page_content for doc in docs]\n",
    "metadata = [doc.metadata for doc in docs]\n",
    "ids = [doc.metadata[\"link\"] for doc in docs]"
   ]
  },
  {
   "cell_type": "code",
   "execution_count": 32,
   "metadata": {
    "execution": {
     "iopub.execute_input": "2025-04-10T10:30:55.889284Z",
     "iopub.status.busy": "2025-04-10T10:30:55.888913Z",
     "iopub.status.idle": "2025-04-10T10:31:06.362950Z",
     "shell.execute_reply": "2025-04-10T10:31:06.361467Z",
     "shell.execute_reply.started": "2025-04-10T10:30:55.889250Z"
    },
    "trusted": true
   },
   "outputs": [
    {
     "name": "stderr",
     "output_type": "stream",
     "text": [
      "100%|██████████| 10/10 [00:10<00:00,  1.05s/it]\n"
     ]
    }
   ],
   "source": [
    "chroma_client = chromadb.Client()\n",
    "db = chroma_client.get_or_create_collection(name=db_name, embedding_function=embed_fn)\n",
    "\n",
    "batch_size = 100\n",
    "for i in tqdm(range(0, len(documents), batch_size)):\n",
    "    batch_docs = documents[i:i+batch_size]\n",
    "    batch_meta = metadata[i:i+batch_size]\n",
    "    batch_ids = [f\"doc_{j}\" for j in range(i, i + len(batch_docs))]  # ensure unique IDs\n",
    "\n",
    "    db.add(\n",
    "        documents=batch_docs,\n",
    "        metadatas=batch_meta,\n",
    "        ids=batch_ids\n",
    "    )"
   ]
  },
  {
   "cell_type": "code",
   "execution_count": 33,
   "metadata": {
    "execution": {
     "iopub.execute_input": "2025-04-10T10:31:06.364501Z",
     "iopub.status.busy": "2025-04-10T10:31:06.364144Z",
     "iopub.status.idle": "2025-04-10T10:31:06.602003Z",
     "shell.execute_reply": "2025-04-10T10:31:06.600565Z",
     "shell.execute_reply.started": "2025-04-10T10:31:06.364474Z"
    },
    "trusted": true
   },
   "outputs": [],
   "source": [
    "# TODO: better urls (include subsections)\n",
    "\n",
    "initial_instruction_prompt = \"\"\"You are a knowledgeable, friendly, and responsible veterinary chatbot designed to assist with questions related to veterinary science. These questions may range from highly practical concerns of pet owners caring for sick animals to more theoretical or academic inquiries about veterinary topics.\n",
    "\n",
    "When responding to practical health-related questions, please keep in mind that the user may not provide all the necessary information to properly assess the animal’s condition. In such cases, ask relevant and specific follow-up questions to gather additional information before making any conclusive statements or offering advice. Your follow-up questions should be informed by the veterinary articles provided to you.\n",
    "\n",
    "Always prioritize accuracy and caution in your responses. Do not make assumptions or offer definitive diagnoses without sufficient information. Avoid making false claims, as incorrect information in this domain can have serious consequences for animal health and safety.\n",
    "\n",
    "You will be given veterinary documents and their URLs. These articles may or may not be relevant to the user’s query—use them only if they are clearly applicable. \n",
    "When you do draw from them, reference them in a scientific and transparent manner, listing the sources below your response.\n",
    "Your statements about veterinary science should only be based on the provided documents!\n",
    "\n",
    "When answering:\n",
    "\t•\tBe comprehensive and provide relevant background information where helpful.\n",
    "\t•\tUse clear, simple language suited for a general audience with no technical background.\n",
    "\t•\tMaintain a conversational and empathetic tone—your goal is to support and educate pet owners in a reassuring way.\n",
    "\n",
    "If you need more information before answering, keep your reply brief and focused on the follow-up questions needed to proceed.\"\"\"\n",
    "\n",
    "reminder_instruction_prompt =  \"\"\"Reminder: You are a veterinary chatbot. \n",
    "Please continue to provide helpful, accurate, and cautious responses to both practical and theoretical veterinary questions. \n",
    "When a user input lacks crucial detail, ask relevant follow-up questions before offering advice. \n",
    "Only reference veterinary documents when they clearly apply, and cite them appropriately. \n",
    "Additionally, make sure that all your replies are based on the provided documents.\n",
    "Maintain a clear, empathetic tone for non-expert pet owners.\"\"\"\n",
    "\n",
    "def retrieve_relevant_articles(query):\n",
    "    embed_fn.document_mode = False\n",
    "    results = db.query(query_texts=[query], n_results=10, include=['documents', 'metadatas'])\n",
    "    [documents], [metadata] = results['documents'], results['metadatas']\n",
    "    return [x['link'] for x in metadata], [x['name'] for x in metadata], documents\n",
    "urls, names, documents = retrieve_relevant_articles(\"What are the symptoms of rabies?\")\n",
    "\n",
    "def augment_query(query):\n",
    "    query = query.replace(\"\\n\", \" \")\n",
    "    urls, names, documents = retrieve_relevant_articles(query)\n",
    "    prompt = instruction_prompt + f\"QUESTION: {query}\\n\\n\"\n",
    "    # Add the retrieved documents to the prompt.\n",
    "    for url, name, document in zip(urls, names, documents):\n",
    "        document = document.replace(\"\\n\", \" \")\n",
    "        prompt += f\"url: {url}\\n\"\n",
    "        prompt += f\"name: {name}\\n\"\n",
    "        prompt += f\"document: {document}\\n\\n\"\n",
    "    return prompt\n"
   ]
  },
  {
   "cell_type": "markdown",
   "metadata": {},
   "source": [
    "# ToDos:\n",
    "- clean up notebook, reorder cells, write descriptions\n",
    "- Initial long instruction prompt, then once every ten turns one shorter reminder message.\n",
    "- clear history when running cell anew.\n",
    "- loading gif should have grey background color as the rest.\n",
    "- URLs should be complete with sections.\n",
    "- Reevaluate what is left to do."
   ]
  },
  {
   "cell_type": "code",
   "execution_count": null,
   "metadata": {},
   "outputs": [],
   "source": []
  },
  {
   "cell_type": "markdown",
   "metadata": {},
   "source": [
    "## Chat Interface"
   ]
  },
  {
   "cell_type": "code",
   "execution_count": 34,
   "metadata": {
    "execution": {
     "iopub.execute_input": "2025-04-10T10:31:06.604591Z",
     "iopub.status.busy": "2025-04-10T10:31:06.604211Z",
     "iopub.status.idle": "2025-04-10T10:31:06.608736Z",
     "shell.execute_reply": "2025-04-10T10:31:06.607741Z",
     "shell.execute_reply.started": "2025-04-10T10:31:06.604561Z"
    },
    "trusted": true
   },
   "outputs": [],
   "source": [
    "# Load required libraries\n",
    "from IPython.display import display, HTML\n",
    "import ipywidgets as widgets\n",
    "from datetime import datetime\n",
    "import base64\n",
    "import markdown"
   ]
  },
  {
   "cell_type": "markdown",
   "metadata": {},
   "source": [
    "### Logic for the Chatbot/Chatbot Interface"
   ]
  },
  {
   "cell_type": "code",
   "execution_count": 35,
   "metadata": {
    "execution": {
     "iopub.execute_input": "2025-04-10T10:31:06.611181Z",
     "iopub.status.busy": "2025-04-10T10:31:06.610752Z",
     "iopub.status.idle": "2025-04-10T10:31:06.630198Z",
     "shell.execute_reply": "2025-04-10T10:31:06.628709Z",
     "shell.execute_reply.started": "2025-04-10T10:31:06.611149Z"
    },
    "trusted": true
   },
   "outputs": [],
   "source": [
    "# Event handler\n",
    "def on_submit(change):\n",
    "    user_input = change[\"new\"]\n",
    "    if not user_input.strip():\n",
    "        return\n",
    "    input_widget.value = \"\"\n",
    "    loading_widget.layout.display = \"block\"\n",
    "    \n",
    "    with chat_output:\n",
    "        display(HTML(format_user_message(user_input)))\n",
    "    augmented_query = augment_query(user_input)\n",
    "    response = chat.send_message(augmented_query).text\n",
    "    \n",
    "    with chat_output:\n",
    "        display(HTML(format_bot_message(response)))\n",
    "    \n",
    "    loading_widget.layout.display = \"none\"\n",
    "\n",
    "\n",
    "def format_user_message(msg):\n",
    "    return f\"\"\"\n",
    "    <div class=\"chat-message-right\">\n",
    "        <div>\n",
    "            <img src=\"data:image/png;base64,{dog_base64}\" class=\"rounded-circle\" width=\"40\" height=\"40\">\n",
    "            <div class=\"text-muted small text-nowrap mt-1\">{datetime.now().strftime('%H:%M:%S')}</div>\n",
    "        </div>\n",
    "        <div class=\"chat-bubble\">\n",
    "            <div><strong>You</strong></div>\n",
    "            {msg}\n",
    "        </div>\n",
    "    </div>\n",
    "    \"\"\"\n",
    "\n",
    "def format_bot_message(msg):\n",
    "    return f\"\"\"\n",
    "    <div class=\"chat-message-left\">\n",
    "        <div>\n",
    "            <img src=\"data:image/png;base64,{vet_base64}\" class=\"rounded-circle\" width=\"40\" height=\"40\">\n",
    "            <div class=\"text-muted small text-nowrap mt-1\">{datetime.now().strftime('%H:%M:%S')}</div>\n",
    "        </div>\n",
    "        <div class=\"chat-bubble\">\n",
    "            <div><strong>Bot</strong></div>\n",
    "            {markdown.markdown(msg)}\n",
    "        </div>\n",
    "    </div>\n",
    "    \"\"\"\n",
    "\n",
    "\n",
    "def img_to_base64_str(path):\n",
    "    with open(path, \"rb\") as f:\n",
    "        return base64.b64encode(f.read()).decode(\"utf-8\")\n"
   ]
  },
  {
   "cell_type": "markdown",
   "metadata": {},
   "source": [
    "### Inject CSS styles into HTML frontend\n",
    "\n",
    "`display`: “Render this object’s representation to the notebook’s output cell, using whatever method it defines.”\n",
    "This can mean showing: \n",
    "\t- a widget,\n",
    "\t- a plot,\n",
    "\t- some styled HTML,\n",
    "    - or in this case, just executing HTML that has side effects (like adding <style> tags or JavaScript)."
   ]
  },
  {
   "cell_type": "code",
   "execution_count": 1,
   "metadata": {
    "execution": {
     "iopub.execute_input": "2025-04-10T10:31:06.631708Z",
     "iopub.status.busy": "2025-04-10T10:31:06.631301Z",
     "iopub.status.idle": "2025-04-10T10:31:06.666710Z",
     "shell.execute_reply": "2025-04-10T10:31:06.665557Z",
     "shell.execute_reply.started": "2025-04-10T10:31:06.631667Z"
    },
    "trusted": true
   },
   "outputs": [
    {
     "ename": "NameError",
     "evalue": "name 'HTML' is not defined",
     "output_type": "error",
     "traceback": [
      "\u001b[0;31m---------------------------------------------------------------------------\u001b[0m",
      "\u001b[0;31mNameError\u001b[0m                                 Traceback (most recent call last)",
      "Cell \u001b[0;32mIn[1], line 1\u001b[0m\n\u001b[0;32m----> 1\u001b[0m display(HTML(\u001b[38;5;124m\"\"\"\u001b[39m\n\u001b[1;32m      2\u001b[0m \u001b[38;5;124m<style>\u001b[39m\n\u001b[1;32m      3\u001b[0m \u001b[38;5;124m    .rounded-input input \u001b[39m\u001b[38;5;124m{\u001b[39m\n\u001b[1;32m      4\u001b[0m \u001b[38;5;124m        border-radius: 20px !important;\u001b[39m\n\u001b[1;32m      5\u001b[0m \u001b[38;5;124m        padding: 10px !important;\u001b[39m\n\u001b[1;32m      6\u001b[0m \u001b[38;5;124m        font-size: 16px;\u001b[39m\n\u001b[1;32m      7\u001b[0m \u001b[38;5;124m    }\u001b[39m\n\u001b[1;32m      8\u001b[0m \u001b[38;5;124m</style>\u001b[39m\n\u001b[1;32m      9\u001b[0m \u001b[38;5;124m\"\"\"\u001b[39m))\n\u001b[1;32m     11\u001b[0m display(HTML(\u001b[38;5;124m\"\"\"\u001b[39m\n\u001b[1;32m     12\u001b[0m \u001b[38;5;124m<style>\u001b[39m\n\u001b[1;32m     13\u001b[0m \u001b[38;5;124m    .widget-box \u001b[39m\u001b[38;5;124m{\u001b[39m\n\u001b[0;32m   (...)\u001b[0m\n\u001b[1;32m     16\u001b[0m \u001b[38;5;124m</style>\u001b[39m\n\u001b[1;32m     17\u001b[0m \u001b[38;5;124m\"\"\"\u001b[39m))\n\u001b[1;32m     20\u001b[0m \u001b[38;5;66;03m# Basic Bootstrap CSS\u001b[39;00m\n",
      "\u001b[0;31mNameError\u001b[0m: name 'HTML' is not defined"
     ]
    }
   ],
   "source": [
    "display(HTML(\"\"\"\n",
    "<style>\n",
    "    .rounded-input input {\n",
    "        border-radius: 20px !important;\n",
    "        padding: 10px !important;\n",
    "        font-size: 16px;\n",
    "    }\n",
    "</style>\n",
    "\"\"\"))\n",
    "\n",
    "display(HTML(\"\"\"\n",
    "<style>\n",
    "    .widget-box {\n",
    "        font-family: 'Segoe UI', Tahoma, Geneva, Verdana, sans-serif;\n",
    "    }\n",
    "</style>\n",
    "\"\"\"))\n",
    "\n",
    "\n",
    "# Basic Bootstrap CSS\n",
    "display(HTML(\"\"\"\n",
    "<link rel=\"stylesheet\"\n",
    "      href=\"https://cdn.jsdelivr.net/npm/bootstrap@4.5.3/dist/css/bootstrap.min.css\"\n",
    "      integrity=\"sha384-TX8t27EcRE3e/ihU7zmQxVncDAy5uIKz4rEkgIXeMed4M0jlfIDPvg6uqKI2xXr2\"\n",
    "      crossorigin=\"anonymous\">\n",
    "<style>\n",
    "    .chat-message-left, .chat-message-right {\n",
    "        display: flex;\n",
    "        flex-shrink: 0;\n",
    "        margin-bottom: 10px;\n",
    "    }\n",
    "    .chat-message-left {\n",
    "        margin-right: auto;\n",
    "    }\n",
    "    .chat-message-right {\n",
    "        flex-direction: row-reverse;\n",
    "        margin-left: auto;\n",
    "    }\n",
    "    .chat-bubble {\n",
    "        max-width: 75%;\n",
    "        border-radius: 15px;\n",
    "        padding: 10px 15px;\n",
    "        margin: 5px;\n",
    "    }\n",
    "    .chat-message-left .chat-bubble {\n",
    "        background: #f1f0f0;\n",
    "    }\n",
    "    .chat-message-right .chat-bubble {\n",
    "        background: #d1e7dd;\n",
    "    }\n",
    "</style>\n",
    "\"\"\"))\n",
    "\n",
    "display(HTML(\"\"\"\n",
    "<style>\n",
    "    .chat-container {\n",
    "        border: 2px solid #bbb;\n",
    "        border-radius: 25px;\n",
    "        padding: 20px;\n",
    "        margin: 20px 0;\n",
    "        background-color: #f8f9fa;\n",
    "        box-shadow: 0 4px 12px rgba(0,0,0,0.1);\n",
    "    }\n",
    "</style>\n",
    "\"\"\"))"
   ]
  },
  {
   "cell_type": "code",
   "execution_count": 2,
   "metadata": {
    "execution": {
     "iopub.execute_input": "2025-04-10T10:31:06.668020Z",
     "iopub.status.busy": "2025-04-10T10:31:06.667651Z",
     "iopub.status.idle": "2025-04-10T10:31:06.817587Z",
     "shell.execute_reply": "2025-04-10T10:31:06.816485Z",
     "shell.execute_reply.started": "2025-04-10T10:31:06.667987Z"
    },
    "trusted": true
   },
   "outputs": [
    {
     "ename": "NameError",
     "evalue": "name 'genai' is not defined",
     "output_type": "error",
     "traceback": [
      "\u001b[0;31m---------------------------------------------------------------------------\u001b[0m",
      "\u001b[0;31mNameError\u001b[0m                                 Traceback (most recent call last)",
      "Cell \u001b[0;32mIn[2], line 4\u001b[0m\n\u001b[1;32m      1\u001b[0m \u001b[38;5;66;03m#from google.generativeai.types import Content, Part\u001b[39;00m\n\u001b[0;32m----> 4\u001b[0m client \u001b[38;5;241m=\u001b[39m genai\u001b[38;5;241m.\u001b[39mClient(api_key\u001b[38;5;241m=\u001b[39mGOOGLE_API_KEY)\n\u001b[1;32m      5\u001b[0m chat \u001b[38;5;241m=\u001b[39m client\u001b[38;5;241m.\u001b[39mchats\u001b[38;5;241m.\u001b[39mcreate(model\u001b[38;5;241m=\u001b[39m\u001b[38;5;124m'\u001b[39m\u001b[38;5;124mgemini-2.0-flash\u001b[39m\u001b[38;5;124m'\u001b[39m, history\u001b[38;5;241m=\u001b[39m[])\n",
      "\u001b[0;31mNameError\u001b[0m: name 'genai' is not defined"
     ]
    }
   ],
   "source": [
    "#from google.generativeai.types import Content, Part\n",
    "\n",
    "\n",
    "client = genai.Client(api_key=GOOGLE_API_KEY)\n",
    "chat = client.chats.create(model='gemini-2.0-flash', history=[])\n",
    "#chat = client.chats.create(model='gemini-2.0-flash', \n",
    "#                           history=[Content(role=\"user\", parts=[Part(text=initial_instruction_prompt)]),\n",
    "#                           ])"
   ]
  },
  {
   "cell_type": "code",
   "execution_count": 38,
   "metadata": {
    "execution": {
     "iopub.execute_input": "2025-04-10T10:31:06.819370Z",
     "iopub.status.busy": "2025-04-10T10:31:06.818997Z",
     "iopub.status.idle": "2025-04-10T10:31:06.855320Z",
     "shell.execute_reply": "2025-04-10T10:31:06.853611Z",
     "shell.execute_reply.started": "2025-04-10T10:31:06.819334Z"
    },
    "trusted": true
   },
   "outputs": [
    {
     "data": {
      "application/vnd.jupyter.widget-view+json": {
       "model_id": "24b82025ea2840c19a269d01da675760",
       "version_major": 2,
       "version_minor": 0
      },
      "text/plain": [
       "VBox(children=(VBox(children=(HBox(children=(Output(),), layout=Layout(flex_flow='column-reverse', height='600…"
      ]
     },
     "metadata": {},
     "output_type": "display_data"
    }
   ],
   "source": [
    "input_widget = widgets.Text(\n",
    "    placeholder=\"Ask something...\",\n",
    "    layout=widgets.Layout(width=\"100%\", height=\"40px\"),\n",
    "    style={'description_width': 'initial'}\n",
    ")\n",
    "\n",
    "input_widget.add_class(\"rounded-input\")\n",
    "input_widget.continuous_update = False\n",
    "input_widget.observe(on_submit, names=\"value\")\n",
    "\n",
    "\n",
    "# Load and hide loading animation\n",
    "with open(\"/kaggle/input/vetbot-sources/loading.gif\", \"rb\") as file:\n",
    "    loading_image = file.read()\n",
    "\n",
    "loading_widget = widgets.Image(\n",
    "    value=loading_image,\n",
    "    format=\"gif\",\n",
    "    width=24,\n",
    "    height=24,\n",
    "    layout={\"display\": \"none\", \"margin\": \"0px 10px\"}\n",
    ")\n",
    "\n",
    "# Output box\n",
    "chat_output = widgets.Output()\n",
    "\n",
    "# Convert images to base64 strings once\n",
    "dog_base64 = img_to_base64_str(\"/kaggle/input/vetbot-sources/dog.png\")\n",
    "vet_base64 = img_to_base64_str(\"/kaggle/input/vetbot-sources/veterinarian.png\")\n",
    "\n",
    "# Layout and display\n",
    "chat_layout = widgets.VBox([\n",
    "    widgets.HBox([chat_output],\n",
    "                 layout=widgets.Layout(flex_flow=\"column-reverse\", height=\"600px\", overflow=\"auto\")),\n",
    "    widgets.HBox([loading_widget, input_widget])\n",
    "])\n",
    "\n",
    "\n",
    "chat_container = widgets.VBox([chat_layout])\n",
    "chat_container.add_class(\"chat-container\")\n",
    "display(chat_container)"
   ]
  }
 ],
 "metadata": {
  "kernelspec": {
   "display_name": "vetbot",
   "language": "python",
   "name": "python3"
  },
  "language_info": {
   "codemirror_mode": {
    "name": "ipython",
    "version": 3
   },
   "file_extension": ".py",
   "mimetype": "text/x-python",
   "name": "python",
   "nbconvert_exporter": "python",
   "pygments_lexer": "ipython3",
   "version": "3.13.2"
  }
 },
 "nbformat": 4,
 "nbformat_minor": 4
}
