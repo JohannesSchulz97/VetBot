{
 "cells": [
  {
   "cell_type": "code",
   "execution_count": 11,
   "metadata": {},
   "outputs": [],
   "source": [
    "\"\"\" LangChain Packages\"\"\"\n",
    "from langchain.vectorstores import Chroma\n",
    "from langchain.embeddings.vertexai import VertexAIEmbeddings\n",
    "from langchain.document_loaders import JSONLoader\n",
    "from langchain.text_splitter import RecursiveCharacterTextSplitter\n",
    "from langchain.schema import Document\n",
    "\n",
    "\"\"\" Chroma packages\"\"\"\n",
    "from chromadb import EmbeddingFunction, Embeddings\n",
    "import chromadb\n",
    "from chromadb import PersistentClient\n",
    "\n",
    "import json, requests\n",
    "from tqdm import tqdm\n",
    "\n",
    "\"\"\" Chatbot Interface \"\"\"\n",
    "from IPython.display import HTML, Markdown, display\n",
    "import ipywidgets as widgets\n",
    "from datetime import datetime\n",
    "import base64\n",
    "import markdown"
   ]
  },
  {
   "cell_type": "markdown",
   "metadata": {},
   "source": [
    "## Extraction of JSON Articles as Langchain Documents\n",
    "\n",
    "We load the authoratative veterinary literature from GitHub. \n",
    "The `merck-articles.json` file is a result of scraping [https://www.merckvetmanual.com/](https://www.merckvetmanual.com/) for relevant veterinary articles.\n",
    "\n",
    "Details can be found in the [respective repository](https://github.com/JohannesSchulz97/WebScraper)."
   ]
  },
  {
   "cell_type": "code",
   "execution_count": 4,
   "metadata": {},
   "outputs": [
    {
     "name": "stdout",
     "output_type": "stream",
     "text": [
      "Loaded 2895 articles with a total word count of 2836584.\n"
     ]
    }
   ],
   "source": [
    "url = \"https://raw.githubusercontent.com/JohannesSchulz97/WebScraper/refs/heads/main/data/merck-articles.json\"\n",
    "\n",
    "\"\"\"\n",
    "    Retrieve veterinary articles dataset from Github.\n",
    "\"\"\"\n",
    "response = requests.get(url)\n",
    "data = response.json()\n",
    "\n",
    "word_count = 0\n",
    "for article in data: \n",
    "    word_count += len(article['content'].split())\n",
    "print(f\"Loaded {len(data)} articles with a total word count of {word_count}.\")\n",
    "\n",
    "\"\"\"\n",
    "    Create Langchain documents to be uploaded to the vector store later on.\n",
    "\"\"\"\n",
    "documents = [\n",
    "    Document(\n",
    "        page_content=entry[\"content\"],\n",
    "        metadata={\"name\": entry[\"name\"], \"link\": entry[\"link\"]}\n",
    "    )\n",
    "    for entry in data\n",
    "]"
   ]
  },
  {
   "cell_type": "markdown",
   "metadata": {},
   "source": [
    "## Setup Chroma Database"
   ]
  },
  {
   "cell_type": "code",
   "execution_count": 8,
   "metadata": {},
   "outputs": [
    {
     "name": "stderr",
     "output_type": "stream",
     "text": [
      "100%|███████████████████████████████████████████| 29/29 [01:30<00:00,  3.12s/it]\n"
     ]
    }
   ],
   "source": [
    "db_name = \"veterinary_articles\"\n",
    "\n",
    "# Extract content, metadata, and generate ids\n",
    "contents = [doc.page_content for doc in documents]\n",
    "metadata = [doc.metadata for doc in documents]\n",
    "ids = [doc.metadata[\"link\"] for doc in documents]\n",
    "\n",
    "# Create a persistent Chroma DB client, if it has not been created already.\n",
    "if \"chroma_client\" not in globals():\n",
    "    chroma_client = PersistentClient(path=\"./chroma_db\")\n",
    "\n",
    "# Create a Chroma Collection, using our predefined embedding function.\n",
    "db = chroma_client.get_or_create_collection(name=db_name)\n",
    "\n",
    "# Upload content in batches to stay within chromas defined limits.\n",
    "batch_size = 100\n",
    "for i in tqdm(range(0, len(contents), batch_size)):\n",
    "    batch_docs = contents[i:i+batch_size]\n",
    "    batch_meta = metadata[i:i+batch_size]\n",
    "    batch_ids = [f\"doc_{j}\" for j in range(i, i + len(batch_docs))]  # ensure unique IDs\n",
    "\n",
    "    db.add(\n",
    "        documents=batch_docs,\n",
    "        metadatas=batch_meta,\n",
    "        ids=batch_ids\n",
    "    )"
   ]
  },
  {
   "cell_type": "code",
   "execution_count": 9,
   "metadata": {},
   "outputs": [],
   "source": [
    "from enum import Enum\n",
    "\n",
    "class QueryType(Enum):\n",
    "    INITIAL = 1\n",
    "    REMINDER = 2\n",
    "    NO_INSTRUCTIONS = 3\n",
    "\n",
    "\n",
    "initial_instruction_prompt = \"\"\"You are a knowledgeable, friendly, and responsible veterinary chatbot designed to assist with questions related to veterinary science. \n",
    "These questions may range from highly practical concerns of pet owners caring for sick animals to more theoretical or academic inquiries about veterinary topics.\n",
    "\n",
    "When responding to practical health-related questions, please keep in mind that the user may not provide all the necessary information to properly assess the animal’s condition. \n",
    "In such cases, ask relevant and specific follow-up questions to gather additional information before making any conclusive statements or offering advice. \n",
    "Your follow-up questions should be informed by the veterinary articles provided to you.\n",
    "\n",
    "Always prioritize accuracy and caution in your responses. Do not make assumptions or offer definitive diagnoses without sufficient information. \n",
    "Avoid making false claims, as incorrect information in this domain can have serious consequences for animal health and safety.\n",
    "\n",
    "You will be given veterinary documents and their URLs. These articles may or may not be relevant to the user’s query—use them only if they are clearly applicable. \n",
    "When you make statements and claims, reference the respective article.\n",
    "Also, do not spam the same citation again and again, but rather make sure that it is cited where most appropriate and at least once.\n",
    "List all sources in a separate section below your response.\n",
    "The source citations should in a consistent format (ideally the one that uses numbers) that is typical in scientific literature.\n",
    "In general your statements about veterinary science should only be based on the provided documents!\n",
    "\n",
    "To summarize:\n",
    "\t•\tIf you need more information before answering, keep your reply brief and focused on a few essential follow-up questions needed to proceed.\n",
    "\t•\tOnly base your statements on the provided articles and prioritize accuracy and caution.\n",
    "\t•\tOnly reference veterinary documents when they clearly apply and cite them as prescribed.\n",
    "    •\tMaintain a conversational and empathetic tone—your goal is to support and educate pet owners in a reassuring way.\n",
    "\n",
    "\"\"\"\n",
    "\n",
    "reminder_instruction_prompt =  \"\"\"Reminder: You are a veterinary chatbot. \n",
    "Please continue to provide helpful, accurate, and cautious responses to both practical and theoretical veterinary questions. \n",
    "When a user input lacks crucial detail, ask relevant follow-up questions before offering advice. \n",
    "Only reference veterinary documents when they clearly apply and cite them as prescribed. \n",
    "Additionally, make sure that all your replies are based on the provided documents.\n",
    "Maintain a clear, empathetic tone for non-expert pet owners.\"\"\"\n",
    "\n",
    "\"\"\"\n",
    "    Retrieve the ten most relevant articles from the Chroma DB database by embedding the users query and then comparing the resultant\n",
    "    embedding to the embeddings of the stored articles..\n",
    "\"\"\"\n",
    "def retrieve_relevant_articles(query):\n",
    "    embed_fn.document_mode = False\n",
    "    results = db.query(query_texts=[query], n_results=10, include=['documents', 'metadatas'])\n",
    "    [documents], [metadata] = results['documents'], results['metadatas']\n",
    "    return [x['link'] for x in metadata], [x['name'] for x in metadata], documents\n",
    "    \n",
    "\"\"\"\n",
    "    Query augmentation varies, depending on the current turn. \n",
    "    Initially, we add lenghty and detailed instructions. After every ten rounds, we will remind the model of those\n",
    "    with a shorter instruction reminder. \n",
    "    For all query types, we append relevant documents afeter the query.\n",
    "\"\"\"\n",
    "def augment_query(query, query_type: QueryType):\n",
    "    query = query.replace(\"\\n\", \" \")\n",
    "    urls, names, documents = retrieve_relevant_articles(query)\n",
    "    match query_type:\n",
    "        case QueryType.INITIAL:\n",
    "            prompt = initial_instruction_prompt + f\"QUESTION: {query}\\n\\n\"\n",
    "        case QueryType.REMINDER:\n",
    "            prompt = reminder_instruction_prompt + f\"QUESTION: {query}\\n\\n\"\n",
    "        case QueryType.NO_INSTRUCTIONS:\n",
    "            prompt = f\"QUESTION: {query}\\n\\n\"\n",
    "    # Add the retrieved documents to the prompt.\n",
    "    for url, name, document in zip(urls, names, documents):\n",
    "        document = document.replace(\"\\n\", \" \")\n",
    "        prompt += f\"url: {url}\\n\"\n",
    "        prompt += f\"name: {name}\\n\"\n",
    "        prompt += f\"document: {document}\\n\\n\"\n",
    "    return prompt\n"
   ]
  },
  {
   "cell_type": "markdown",
   "metadata": {},
   "source": [
    "## Chat Interface"
   ]
  },
  {
   "cell_type": "markdown",
   "metadata": {},
   "source": [
    "### Logic for the Chatbot/Chatbot Interface"
   ]
  },
  {
   "cell_type": "code",
   "execution_count": 14,
   "metadata": {},
   "outputs": [],
   "source": [
    "\"\"\"\n",
    "     Event handler for query submission, the core logic of the User Interface is implemented here.\n",
    "     This includes: \n",
    "     - the augmentation of the users query with relevant articles as well as an additional instruction prompt if needed. \n",
    "     - the visualization of both the users query as well as the models response.\n",
    "\"\"\"\n",
    "\n",
    "def on_submit(change):\n",
    "    user_input = change[\"new\"]\n",
    "    if not user_input.strip():\n",
    "        return\n",
    "    input_widget.value = \"\"\n",
    "    loading_widget.layout.display = \"block\"\n",
    "    \n",
    "    with chat_output:\n",
    "        display(HTML(format_user_message(user_input)))\n",
    "\n",
    "    num_turns = len(chat.get_history())/2\n",
    "    \n",
    "    if num_turns == 0: \n",
    "        augmented_query = augment_query(user_input, QueryType.INITIAL)\n",
    "    elif (num_turns%10) == 0:\n",
    "        augmented_query = augment_query(user_input, QueryType.REMINDER)\n",
    "    else: \n",
    "        augmented_query = augment_query(user_input, QueryType.NO_INSTRUCTIONS)\n",
    "\n",
    "    response = chat.send_message(augmented_query).text\n",
    "    \n",
    "    with chat_output:\n",
    "        display(HTML(format_bot_message(response)))\n",
    "    \n",
    "    loading_widget.layout.display = \"none\"\n",
    "\n",
    "\n",
    "def format_user_message(msg):\n",
    "    return f\"\"\"\n",
    "    <div class=\"chat-message-right\">\n",
    "        <div>\n",
    "            <img src=\"data:image/png;base64,{dog_base64}\" class=\"rounded-circle\" width=\"40\" height=\"40\">\n",
    "            <div class=\"text-muted small text-nowrap mt-1\">{datetime.now().strftime('%H:%M:%S')}</div>\n",
    "        </div>\n",
    "        <div class=\"chat-bubble\">\n",
    "            <div><strong>You</strong></div>\n",
    "            {msg}\n",
    "        </div>\n",
    "    </div>\n",
    "    \"\"\"\n",
    "\n",
    "def format_bot_message(msg):\n",
    "    return f\"\"\"\n",
    "    <div class=\"chat-message-left\">\n",
    "        <div>\n",
    "            <img src=\"data:image/png;base64,{vet_base64}\" class=\"rounded-circle\" width=\"40\" height=\"40\">\n",
    "            <div class=\"text-muted small text-nowrap mt-1\">{datetime.now().strftime('%H:%M:%S')}</div>\n",
    "        </div>\n",
    "        <div class=\"chat-bubble\">\n",
    "            <div><strong>Veterinary Assistant Chatbot</strong></div>\n",
    "            {markdown.markdown(msg)}\n",
    "        </div>\n",
    "    </div>\n",
    "    \"\"\"\n",
    "\n",
    "\n",
    "def img_to_base64_str(path):\n",
    "    with open(path, \"rb\") as f:\n",
    "        return base64.b64encode(f.read()).decode(\"utf-8\")\n"
   ]
  },
  {
   "cell_type": "markdown",
   "metadata": {},
   "source": [
    "### Inject CSS styles into HTML frontend\n",
    "\n",
    "`display`: “Render this object’s representation to the notebook’s output cell, using whatever method it defines.”\n",
    "This can mean showing: \n",
    "\t- a widget,\n",
    "\t- a plot,\n",
    "\t- some styled HTML,\n",
    "    - or in this case, just executing HTML that has side effects (like adding <style> tags or JavaScript)."
   ]
  },
  {
   "cell_type": "code",
   "execution_count": 15,
   "metadata": {},
   "outputs": [
    {
     "data": {
      "text/html": [
       "\n",
       "<style>\n",
       "    .rounded-input input {\n",
       "        border-radius: 20px !important;\n",
       "        padding: 10px !important;\n",
       "        font-size: 22px;\n",
       "    }\n",
       "</style>\n"
      ],
      "text/plain": [
       "<IPython.core.display.HTML object>"
      ]
     },
     "metadata": {},
     "output_type": "display_data"
    },
    {
     "data": {
      "text/html": [
       "\n",
       "<style>\n",
       "    .widget-box {\n",
       "        font-family: 'S/egoe UI', Tahoma, Geneva, Verdana, sans-serif;\n",
       "    }\n",
       "</style>\n"
      ],
      "text/plain": [
       "<IPython.core.display.HTML object>"
      ]
     },
     "metadata": {},
     "output_type": "display_data"
    },
    {
     "data": {
      "text/html": [
       "\n",
       "<link rel=\"stylesheet\"\n",
       "      href=\"https://cdn.jsdelivr.net/npm/bootstrap@4.5.3/dist/css/bootstrap.min.css\"\n",
       "      integrity=\"sha384-TX8t27EcRE3e/ihU7zmQxVncDAy5uIKz4rEkgIXeMed4M0jlfIDPvg6uqKI2xXr2\"\n",
       "      crossorigin=\"anonymous\">\n",
       "<style>\n",
       "    .chat-message-left, .chat-message-right {\n",
       "        display: flex;\n",
       "        flex-shrink: 0;\n",
       "        margin-bottom: 10px;\n",
       "    }\n",
       "    .chat-message-left {\n",
       "        margin-right: auto;\n",
       "    }\n",
       "    .chat-message-right {\n",
       "        flex-direction: row-reverse;\n",
       "        margin-left: auto;\n",
       "    }\n",
       "    .chat-bubble {\n",
       "        max-width: 75%;\n",
       "        border-radius: 15px;\n",
       "        padding: 10px 15px;\n",
       "        margin: 5px;\n",
       "    }\n",
       "    .chat-message-left .chat-bubble {\n",
       "        background: #f1f0f0;\n",
       "        font-size: 15px;\n",
       "    }\n",
       "    .chat-message-right .chat-bubble {\n",
       "        background: #d1e7dd;\n",
       "        font-size: 15px;\n",
       "    }\n",
       "</style>\n"
      ],
      "text/plain": [
       "<IPython.core.display.HTML object>"
      ]
     },
     "metadata": {},
     "output_type": "display_data"
    },
    {
     "data": {
      "text/html": [
       "\n",
       "<style>\n",
       "    .chat-container {\n",
       "        border: 2px solid #bbb;\n",
       "        border-radius: 25px;\n",
       "        padding: 20px;\n",
       "        background-color: #f8f9fa;\n",
       "        box-shadow: 0 4px 12px rgba(0,0,0,0.1);\n",
       "        max-width: 1200px; \n",
       "        margin: 20px auto; |\n",
       "    }\n",
       "</style>\n"
      ],
      "text/plain": [
       "<IPython.core.display.HTML object>"
      ]
     },
     "metadata": {},
     "output_type": "display_data"
    },
    {
     "data": {
      "text/html": [
       "\n",
       "<style>\n",
       ".rounded-input input {\n",
       "    font-size: 15px !important;\n",
       "    padding: 6px 10px;\n",
       "}\n",
       "</style>\n"
      ],
      "text/plain": [
       "<IPython.core.display.HTML object>"
      ]
     },
     "metadata": {},
     "output_type": "display_data"
    }
   ],
   "source": [
    "display(HTML(\"\"\"\n",
    "<style>\n",
    "    .rounded-input input {\n",
    "        border-radius: 20px !important;\n",
    "        padding: 10px !important;\n",
    "        font-size: 22px;\n",
    "    }\n",
    "</style>\n",
    "\"\"\"))\n",
    "\n",
    "display(HTML(\"\"\"\n",
    "<style>\n",
    "    .widget-box {\n",
    "        font-family: 'S/egoe UI', Tahoma, Geneva, Verdana, sans-serif;\n",
    "    }\n",
    "</style>\n",
    "\"\"\"))\n",
    "\n",
    "\n",
    "# Basic Bootstrap CSS\n",
    "display(HTML(\"\"\"\n",
    "<link rel=\"stylesheet\"\n",
    "      href=\"https://cdn.jsdelivr.net/npm/bootstrap@4.5.3/dist/css/bootstrap.min.css\"\n",
    "      integrity=\"sha384-TX8t27EcRE3e/ihU7zmQxVncDAy5uIKz4rEkgIXeMed4M0jlfIDPvg6uqKI2xXr2\"\n",
    "      crossorigin=\"anonymous\">\n",
    "<style>\n",
    "    .chat-message-left, .chat-message-right {\n",
    "        display: flex;\n",
    "        flex-shrink: 0;\n",
    "        margin-bottom: 10px;\n",
    "    }\n",
    "    .chat-message-left {\n",
    "        margin-right: auto;\n",
    "    }\n",
    "    .chat-message-right {\n",
    "        flex-direction: row-reverse;\n",
    "        margin-left: auto;\n",
    "    }\n",
    "    .chat-bubble {\n",
    "        max-width: 75%;\n",
    "        border-radius: 15px;\n",
    "        padding: 10px 15px;\n",
    "        margin: 5px;\n",
    "    }\n",
    "    .chat-message-left .chat-bubble {\n",
    "        background: #f1f0f0;\n",
    "        font-size: 15px;\n",
    "    }\n",
    "    .chat-message-right .chat-bubble {\n",
    "        background: #d1e7dd;\n",
    "        font-size: 15px;\n",
    "    }\n",
    "</style>\n",
    "\"\"\"))\n",
    "\n",
    "display(HTML(\"\"\"\n",
    "<style>\n",
    "    .chat-container {\n",
    "        border: 2px solid #bbb;\n",
    "        border-radius: 25px;\n",
    "        padding: 20px;\n",
    "        background-color: #f8f9fa;\n",
    "        box-shadow: 0 4px 12px rgba(0,0,0,0.1);\n",
    "        max-width: 1200px; \n",
    "        margin: 20px auto; |\n",
    "    }\n",
    "</style>\n",
    "\"\"\"))\n",
    "\n",
    "# Font size of Output\n",
    "display(HTML(\"\"\"\n",
    "<style>\n",
    ".rounded-input input {\n",
    "    font-size: 15px !important;\n",
    "    padding: 6px 10px;\n",
    "}\n",
    "</style>\n",
    "\"\"\"))"
   ]
  },
  {
   "cell_type": "markdown",
   "metadata": {},
   "source": [
    "### Create User Interface"
   ]
  },
  {
   "cell_type": "code",
   "execution_count": 16,
   "metadata": {},
   "outputs": [
    {
     "data": {
      "application/vnd.jupyter.widget-view+json": {
       "model_id": "be99bb6e61334f988af28e3216c3dd7f",
       "version_major": 2,
       "version_minor": 0
      },
      "text/plain": [
       "VBox(children=(VBox(children=(HBox(children=(Output(),), layout=Layout(flex_flow='column-reverse', height='750…"
      ]
     },
     "metadata": {},
     "output_type": "display_data"
    }
   ],
   "source": [
    "input_widget = widgets.Text(\n",
    "    placeholder=\"Ask something...\",\n",
    "    layout=widgets.Layout(width=\"100%\", height=\"40px\"),\n",
    "    style={'description_width': 'initial'}\n",
    ")\n",
    "\n",
    "input_widget.add_class(\"rounded-input\")\n",
    "input_widget.continuous_update = False\n",
    "input_widget.observe(on_submit, names=\"value\")\n",
    "\n",
    "\n",
    "# Load and hide loading animation\n",
    "with open(\"./data/img/loading.gif\", \"rb\") as file:\n",
    "    loading_image = file.read()\n",
    "\n",
    "loading_widget = widgets.Image(\n",
    "    value=loading_image,\n",
    "    format=\"gif\",\n",
    "    width=24,\n",
    "    height=24,\n",
    "    layout={\"display\": \"none\", \"margin\": \"-12px 10px 0px 10px\"}\n",
    ")\n",
    "\n",
    "# Output box\n",
    "chat_output = widgets.Output()\n",
    "\n",
    "# Convert images to base64 strings once\n",
    "dog_base64 = img_to_base64_str(\"./data/img/dog.png\")\n",
    "vet_base64 = img_to_base64_str(\"./data/img/veterinarian.png\")\n",
    "\n",
    "# Layout and display\n",
    "chat_layout = widgets.VBox([\n",
    "    widgets.HBox([chat_output],\n",
    "                 layout=widgets.Layout(flex_flow=\"column-reverse\", height=\"750px\", overflow=\"auto\")),\n",
    "    widgets.HBox([loading_widget, input_widget])\n",
    "])\n",
    "\n",
    "\n",
    "chat_container = widgets.VBox([chat_layout])\n",
    "chat_container.add_class(\"chat-container\")\n",
    "display(chat_container)"
   ]
  },
  {
   "cell_type": "code",
   "execution_count": null,
   "metadata": {
    "execution": {
     "iopub.status.busy": "2025-04-30T10:56:19.996518Z",
     "iopub.status.idle": "2025-04-30T10:56:19.996844Z",
     "shell.execute_reply": "2025-04-30T10:56:19.996709Z"
    }
   },
   "outputs": [],
   "source": [
    "I have a small puppy. And I would like to train him so that he respects my boundaries and is generally well behaved, while also not too strict in correcting him. Any adivice?"
   ]
  },
  {
   "cell_type": "code",
   "execution_count": null,
   "metadata": {},
   "outputs": [],
   "source": []
  },
  {
   "cell_type": "code",
   "execution_count": null,
   "metadata": {},
   "outputs": [],
   "source": []
  },
  {
   "cell_type": "code",
   "execution_count": null,
   "metadata": {},
   "outputs": [],
   "source": []
  },
  {
   "cell_type": "code",
   "execution_count": null,
   "metadata": {},
   "outputs": [],
   "source": []
  },
  {
   "cell_type": "code",
   "execution_count": null,
   "metadata": {},
   "outputs": [],
   "source": []
  },
  {
   "cell_type": "code",
   "execution_count": null,
   "metadata": {},
   "outputs": [],
   "source": []
  },
  {
   "cell_type": "code",
   "execution_count": null,
   "metadata": {},
   "outputs": [],
   "source": []
  }
 ],
 "metadata": {
  "kaggle": {
   "accelerator": "none",
   "dataSources": [
    {
     "datasetId": 7089112,
     "sourceId": 11366803,
     "sourceType": "datasetVersion"
    }
   ],
   "dockerImageVersionId": 30918,
   "isGpuEnabled": false,
   "isInternetEnabled": true,
   "language": "python",
   "sourceType": "notebook"
  },
  "kernelspec": {
   "display_name": "Python 3 (ipykernel)",
   "language": "python",
   "name": "python3"
  },
  "language_info": {
   "codemirror_mode": {
    "name": "ipython",
    "version": 3
   },
   "file_extension": ".py",
   "mimetype": "text/x-python",
   "name": "python",
   "nbconvert_exporter": "python",
   "pygments_lexer": "ipython3",
   "version": "3.13.2"
  }
 },
 "nbformat": 4,
 "nbformat_minor": 4
}
